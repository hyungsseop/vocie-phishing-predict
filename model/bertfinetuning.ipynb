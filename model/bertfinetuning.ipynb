{
  "nbformat": 4,
  "nbformat_minor": 0,
  "metadata": {
    "colab": {
      "provenance": [],
      "machine_shape": "hm",
      "gpuType": "V100"
    },
    "kernelspec": {
      "name": "python3",
      "display_name": "Python 3"
    },
    "language_info": {
      "name": "python"
    },
    "accelerator": "GPU",
    "widgets": {
      "application/vnd.jupyter.widget-state+json": {
        "4971c5c46bed4c3b83925b7f9119d712": {
          "model_module": "@jupyter-widgets/controls",
          "model_name": "HBoxModel",
          "model_module_version": "1.5.0",
          "state": {
            "_dom_classes": [],
            "_model_module": "@jupyter-widgets/controls",
            "_model_module_version": "1.5.0",
            "_model_name": "HBoxModel",
            "_view_count": null,
            "_view_module": "@jupyter-widgets/controls",
            "_view_module_version": "1.5.0",
            "_view_name": "HBoxView",
            "box_style": "",
            "children": [
              "IPY_MODEL_df59025d5f7043059f1a4646376587f8",
              "IPY_MODEL_1ba2ac7f24564f76a36e4ec0f834058d",
              "IPY_MODEL_a9328710df8943c78c29a258a4e152ad"
            ],
            "layout": "IPY_MODEL_4a9d6ac9882f48efa22dbbdd78cd9c70"
          }
        },
        "df59025d5f7043059f1a4646376587f8": {
          "model_module": "@jupyter-widgets/controls",
          "model_name": "HTMLModel",
          "model_module_version": "1.5.0",
          "state": {
            "_dom_classes": [],
            "_model_module": "@jupyter-widgets/controls",
            "_model_module_version": "1.5.0",
            "_model_name": "HTMLModel",
            "_view_count": null,
            "_view_module": "@jupyter-widgets/controls",
            "_view_module_version": "1.5.0",
            "_view_name": "HTMLView",
            "description": "",
            "description_tooltip": null,
            "layout": "IPY_MODEL_ec6fe1aceb254ad6bcc3761d1ac5463c",
            "placeholder": "​",
            "style": "IPY_MODEL_932c98861f82412ca9838580da8831ab",
            "value": "Downloading (…)okenizer_config.json: 100%"
          }
        },
        "1ba2ac7f24564f76a36e4ec0f834058d": {
          "model_module": "@jupyter-widgets/controls",
          "model_name": "FloatProgressModel",
          "model_module_version": "1.5.0",
          "state": {
            "_dom_classes": [],
            "_model_module": "@jupyter-widgets/controls",
            "_model_module_version": "1.5.0",
            "_model_name": "FloatProgressModel",
            "_view_count": null,
            "_view_module": "@jupyter-widgets/controls",
            "_view_module_version": "1.5.0",
            "_view_name": "ProgressView",
            "bar_style": "success",
            "description": "",
            "description_tooltip": null,
            "layout": "IPY_MODEL_3cbcad9d0c754e87bb3027971dd315a0",
            "max": 80,
            "min": 0,
            "orientation": "horizontal",
            "style": "IPY_MODEL_b6f93b171f944bdca919bc64b1b96a00",
            "value": 80
          }
        },
        "a9328710df8943c78c29a258a4e152ad": {
          "model_module": "@jupyter-widgets/controls",
          "model_name": "HTMLModel",
          "model_module_version": "1.5.0",
          "state": {
            "_dom_classes": [],
            "_model_module": "@jupyter-widgets/controls",
            "_model_module_version": "1.5.0",
            "_model_name": "HTMLModel",
            "_view_count": null,
            "_view_module": "@jupyter-widgets/controls",
            "_view_module_version": "1.5.0",
            "_view_name": "HTMLView",
            "description": "",
            "description_tooltip": null,
            "layout": "IPY_MODEL_d70f1edcfe1a45a782a95c2024e64814",
            "placeholder": "​",
            "style": "IPY_MODEL_bb0cc2a62cc44507b78d1e363901f6c3",
            "value": " 80.0/80.0 [00:00&lt;00:00, 4.22kB/s]"
          }
        },
        "4a9d6ac9882f48efa22dbbdd78cd9c70": {
          "model_module": "@jupyter-widgets/base",
          "model_name": "LayoutModel",
          "model_module_version": "1.2.0",
          "state": {
            "_model_module": "@jupyter-widgets/base",
            "_model_module_version": "1.2.0",
            "_model_name": "LayoutModel",
            "_view_count": null,
            "_view_module": "@jupyter-widgets/base",
            "_view_module_version": "1.2.0",
            "_view_name": "LayoutView",
            "align_content": null,
            "align_items": null,
            "align_self": null,
            "border": null,
            "bottom": null,
            "display": null,
            "flex": null,
            "flex_flow": null,
            "grid_area": null,
            "grid_auto_columns": null,
            "grid_auto_flow": null,
            "grid_auto_rows": null,
            "grid_column": null,
            "grid_gap": null,
            "grid_row": null,
            "grid_template_areas": null,
            "grid_template_columns": null,
            "grid_template_rows": null,
            "height": null,
            "justify_content": null,
            "justify_items": null,
            "left": null,
            "margin": null,
            "max_height": null,
            "max_width": null,
            "min_height": null,
            "min_width": null,
            "object_fit": null,
            "object_position": null,
            "order": null,
            "overflow": null,
            "overflow_x": null,
            "overflow_y": null,
            "padding": null,
            "right": null,
            "top": null,
            "visibility": null,
            "width": null
          }
        },
        "ec6fe1aceb254ad6bcc3761d1ac5463c": {
          "model_module": "@jupyter-widgets/base",
          "model_name": "LayoutModel",
          "model_module_version": "1.2.0",
          "state": {
            "_model_module": "@jupyter-widgets/base",
            "_model_module_version": "1.2.0",
            "_model_name": "LayoutModel",
            "_view_count": null,
            "_view_module": "@jupyter-widgets/base",
            "_view_module_version": "1.2.0",
            "_view_name": "LayoutView",
            "align_content": null,
            "align_items": null,
            "align_self": null,
            "border": null,
            "bottom": null,
            "display": null,
            "flex": null,
            "flex_flow": null,
            "grid_area": null,
            "grid_auto_columns": null,
            "grid_auto_flow": null,
            "grid_auto_rows": null,
            "grid_column": null,
            "grid_gap": null,
            "grid_row": null,
            "grid_template_areas": null,
            "grid_template_columns": null,
            "grid_template_rows": null,
            "height": null,
            "justify_content": null,
            "justify_items": null,
            "left": null,
            "margin": null,
            "max_height": null,
            "max_width": null,
            "min_height": null,
            "min_width": null,
            "object_fit": null,
            "object_position": null,
            "order": null,
            "overflow": null,
            "overflow_x": null,
            "overflow_y": null,
            "padding": null,
            "right": null,
            "top": null,
            "visibility": null,
            "width": null
          }
        },
        "932c98861f82412ca9838580da8831ab": {
          "model_module": "@jupyter-widgets/controls",
          "model_name": "DescriptionStyleModel",
          "model_module_version": "1.5.0",
          "state": {
            "_model_module": "@jupyter-widgets/controls",
            "_model_module_version": "1.5.0",
            "_model_name": "DescriptionStyleModel",
            "_view_count": null,
            "_view_module": "@jupyter-widgets/base",
            "_view_module_version": "1.2.0",
            "_view_name": "StyleView",
            "description_width": ""
          }
        },
        "3cbcad9d0c754e87bb3027971dd315a0": {
          "model_module": "@jupyter-widgets/base",
          "model_name": "LayoutModel",
          "model_module_version": "1.2.0",
          "state": {
            "_model_module": "@jupyter-widgets/base",
            "_model_module_version": "1.2.0",
            "_model_name": "LayoutModel",
            "_view_count": null,
            "_view_module": "@jupyter-widgets/base",
            "_view_module_version": "1.2.0",
            "_view_name": "LayoutView",
            "align_content": null,
            "align_items": null,
            "align_self": null,
            "border": null,
            "bottom": null,
            "display": null,
            "flex": null,
            "flex_flow": null,
            "grid_area": null,
            "grid_auto_columns": null,
            "grid_auto_flow": null,
            "grid_auto_rows": null,
            "grid_column": null,
            "grid_gap": null,
            "grid_row": null,
            "grid_template_areas": null,
            "grid_template_columns": null,
            "grid_template_rows": null,
            "height": null,
            "justify_content": null,
            "justify_items": null,
            "left": null,
            "margin": null,
            "max_height": null,
            "max_width": null,
            "min_height": null,
            "min_width": null,
            "object_fit": null,
            "object_position": null,
            "order": null,
            "overflow": null,
            "overflow_x": null,
            "overflow_y": null,
            "padding": null,
            "right": null,
            "top": null,
            "visibility": null,
            "width": null
          }
        },
        "b6f93b171f944bdca919bc64b1b96a00": {
          "model_module": "@jupyter-widgets/controls",
          "model_name": "ProgressStyleModel",
          "model_module_version": "1.5.0",
          "state": {
            "_model_module": "@jupyter-widgets/controls",
            "_model_module_version": "1.5.0",
            "_model_name": "ProgressStyleModel",
            "_view_count": null,
            "_view_module": "@jupyter-widgets/base",
            "_view_module_version": "1.2.0",
            "_view_name": "StyleView",
            "bar_color": null,
            "description_width": ""
          }
        },
        "d70f1edcfe1a45a782a95c2024e64814": {
          "model_module": "@jupyter-widgets/base",
          "model_name": "LayoutModel",
          "model_module_version": "1.2.0",
          "state": {
            "_model_module": "@jupyter-widgets/base",
            "_model_module_version": "1.2.0",
            "_model_name": "LayoutModel",
            "_view_count": null,
            "_view_module": "@jupyter-widgets/base",
            "_view_module_version": "1.2.0",
            "_view_name": "LayoutView",
            "align_content": null,
            "align_items": null,
            "align_self": null,
            "border": null,
            "bottom": null,
            "display": null,
            "flex": null,
            "flex_flow": null,
            "grid_area": null,
            "grid_auto_columns": null,
            "grid_auto_flow": null,
            "grid_auto_rows": null,
            "grid_column": null,
            "grid_gap": null,
            "grid_row": null,
            "grid_template_areas": null,
            "grid_template_columns": null,
            "grid_template_rows": null,
            "height": null,
            "justify_content": null,
            "justify_items": null,
            "left": null,
            "margin": null,
            "max_height": null,
            "max_width": null,
            "min_height": null,
            "min_width": null,
            "object_fit": null,
            "object_position": null,
            "order": null,
            "overflow": null,
            "overflow_x": null,
            "overflow_y": null,
            "padding": null,
            "right": null,
            "top": null,
            "visibility": null,
            "width": null
          }
        },
        "bb0cc2a62cc44507b78d1e363901f6c3": {
          "model_module": "@jupyter-widgets/controls",
          "model_name": "DescriptionStyleModel",
          "model_module_version": "1.5.0",
          "state": {
            "_model_module": "@jupyter-widgets/controls",
            "_model_module_version": "1.5.0",
            "_model_name": "DescriptionStyleModel",
            "_view_count": null,
            "_view_module": "@jupyter-widgets/base",
            "_view_module_version": "1.2.0",
            "_view_name": "StyleView",
            "description_width": ""
          }
        },
        "88d1707f7a6241c2b46bb29f0a9fddca": {
          "model_module": "@jupyter-widgets/controls",
          "model_name": "HBoxModel",
          "model_module_version": "1.5.0",
          "state": {
            "_dom_classes": [],
            "_model_module": "@jupyter-widgets/controls",
            "_model_module_version": "1.5.0",
            "_model_name": "HBoxModel",
            "_view_count": null,
            "_view_module": "@jupyter-widgets/controls",
            "_view_module_version": "1.5.0",
            "_view_name": "HBoxView",
            "box_style": "",
            "children": [
              "IPY_MODEL_c705c3cd6b40497b9d87b196e43a6727",
              "IPY_MODEL_1a301e2120844d8c9914fe4c527270b2",
              "IPY_MODEL_79d534605126480187af771facd371f0"
            ],
            "layout": "IPY_MODEL_f17177cb899d4748958fba50bbc7de79"
          }
        },
        "c705c3cd6b40497b9d87b196e43a6727": {
          "model_module": "@jupyter-widgets/controls",
          "model_name": "HTMLModel",
          "model_module_version": "1.5.0",
          "state": {
            "_dom_classes": [],
            "_model_module": "@jupyter-widgets/controls",
            "_model_module_version": "1.5.0",
            "_model_name": "HTMLModel",
            "_view_count": null,
            "_view_module": "@jupyter-widgets/controls",
            "_view_module_version": "1.5.0",
            "_view_name": "HTMLView",
            "description": "",
            "description_tooltip": null,
            "layout": "IPY_MODEL_2c587b70b24e401aa928dc470e80b60b",
            "placeholder": "​",
            "style": "IPY_MODEL_4762bd3b14494ec2a359fd935a8c1e50",
            "value": "Downloading (…)solve/main/vocab.txt: 100%"
          }
        },
        "1a301e2120844d8c9914fe4c527270b2": {
          "model_module": "@jupyter-widgets/controls",
          "model_name": "FloatProgressModel",
          "model_module_version": "1.5.0",
          "state": {
            "_dom_classes": [],
            "_model_module": "@jupyter-widgets/controls",
            "_model_module_version": "1.5.0",
            "_model_name": "FloatProgressModel",
            "_view_count": null,
            "_view_module": "@jupyter-widgets/controls",
            "_view_module_version": "1.5.0",
            "_view_name": "ProgressView",
            "bar_style": "success",
            "description": "",
            "description_tooltip": null,
            "layout": "IPY_MODEL_cfdbf8e324ba41d68f3adc5fbc65d007",
            "max": 344259,
            "min": 0,
            "orientation": "horizontal",
            "style": "IPY_MODEL_191c62f068cf4cd8b1388a1e10e7c7bd",
            "value": 344259
          }
        },
        "79d534605126480187af771facd371f0": {
          "model_module": "@jupyter-widgets/controls",
          "model_name": "HTMLModel",
          "model_module_version": "1.5.0",
          "state": {
            "_dom_classes": [],
            "_model_module": "@jupyter-widgets/controls",
            "_model_module_version": "1.5.0",
            "_model_name": "HTMLModel",
            "_view_count": null,
            "_view_module": "@jupyter-widgets/controls",
            "_view_module_version": "1.5.0",
            "_view_name": "HTMLView",
            "description": "",
            "description_tooltip": null,
            "layout": "IPY_MODEL_3f817281091d4c85a2712e33c73bcdff",
            "placeholder": "​",
            "style": "IPY_MODEL_a5de47df87614c50b461779aaf7e7492",
            "value": " 344k/344k [00:00&lt;00:00, 5.13MB/s]"
          }
        },
        "f17177cb899d4748958fba50bbc7de79": {
          "model_module": "@jupyter-widgets/base",
          "model_name": "LayoutModel",
          "model_module_version": "1.2.0",
          "state": {
            "_model_module": "@jupyter-widgets/base",
            "_model_module_version": "1.2.0",
            "_model_name": "LayoutModel",
            "_view_count": null,
            "_view_module": "@jupyter-widgets/base",
            "_view_module_version": "1.2.0",
            "_view_name": "LayoutView",
            "align_content": null,
            "align_items": null,
            "align_self": null,
            "border": null,
            "bottom": null,
            "display": null,
            "flex": null,
            "flex_flow": null,
            "grid_area": null,
            "grid_auto_columns": null,
            "grid_auto_flow": null,
            "grid_auto_rows": null,
            "grid_column": null,
            "grid_gap": null,
            "grid_row": null,
            "grid_template_areas": null,
            "grid_template_columns": null,
            "grid_template_rows": null,
            "height": null,
            "justify_content": null,
            "justify_items": null,
            "left": null,
            "margin": null,
            "max_height": null,
            "max_width": null,
            "min_height": null,
            "min_width": null,
            "object_fit": null,
            "object_position": null,
            "order": null,
            "overflow": null,
            "overflow_x": null,
            "overflow_y": null,
            "padding": null,
            "right": null,
            "top": null,
            "visibility": null,
            "width": null
          }
        },
        "2c587b70b24e401aa928dc470e80b60b": {
          "model_module": "@jupyter-widgets/base",
          "model_name": "LayoutModel",
          "model_module_version": "1.2.0",
          "state": {
            "_model_module": "@jupyter-widgets/base",
            "_model_module_version": "1.2.0",
            "_model_name": "LayoutModel",
            "_view_count": null,
            "_view_module": "@jupyter-widgets/base",
            "_view_module_version": "1.2.0",
            "_view_name": "LayoutView",
            "align_content": null,
            "align_items": null,
            "align_self": null,
            "border": null,
            "bottom": null,
            "display": null,
            "flex": null,
            "flex_flow": null,
            "grid_area": null,
            "grid_auto_columns": null,
            "grid_auto_flow": null,
            "grid_auto_rows": null,
            "grid_column": null,
            "grid_gap": null,
            "grid_row": null,
            "grid_template_areas": null,
            "grid_template_columns": null,
            "grid_template_rows": null,
            "height": null,
            "justify_content": null,
            "justify_items": null,
            "left": null,
            "margin": null,
            "max_height": null,
            "max_width": null,
            "min_height": null,
            "min_width": null,
            "object_fit": null,
            "object_position": null,
            "order": null,
            "overflow": null,
            "overflow_x": null,
            "overflow_y": null,
            "padding": null,
            "right": null,
            "top": null,
            "visibility": null,
            "width": null
          }
        },
        "4762bd3b14494ec2a359fd935a8c1e50": {
          "model_module": "@jupyter-widgets/controls",
          "model_name": "DescriptionStyleModel",
          "model_module_version": "1.5.0",
          "state": {
            "_model_module": "@jupyter-widgets/controls",
            "_model_module_version": "1.5.0",
            "_model_name": "DescriptionStyleModel",
            "_view_count": null,
            "_view_module": "@jupyter-widgets/base",
            "_view_module_version": "1.2.0",
            "_view_name": "StyleView",
            "description_width": ""
          }
        },
        "cfdbf8e324ba41d68f3adc5fbc65d007": {
          "model_module": "@jupyter-widgets/base",
          "model_name": "LayoutModel",
          "model_module_version": "1.2.0",
          "state": {
            "_model_module": "@jupyter-widgets/base",
            "_model_module_version": "1.2.0",
            "_model_name": "LayoutModel",
            "_view_count": null,
            "_view_module": "@jupyter-widgets/base",
            "_view_module_version": "1.2.0",
            "_view_name": "LayoutView",
            "align_content": null,
            "align_items": null,
            "align_self": null,
            "border": null,
            "bottom": null,
            "display": null,
            "flex": null,
            "flex_flow": null,
            "grid_area": null,
            "grid_auto_columns": null,
            "grid_auto_flow": null,
            "grid_auto_rows": null,
            "grid_column": null,
            "grid_gap": null,
            "grid_row": null,
            "grid_template_areas": null,
            "grid_template_columns": null,
            "grid_template_rows": null,
            "height": null,
            "justify_content": null,
            "justify_items": null,
            "left": null,
            "margin": null,
            "max_height": null,
            "max_width": null,
            "min_height": null,
            "min_width": null,
            "object_fit": null,
            "object_position": null,
            "order": null,
            "overflow": null,
            "overflow_x": null,
            "overflow_y": null,
            "padding": null,
            "right": null,
            "top": null,
            "visibility": null,
            "width": null
          }
        },
        "191c62f068cf4cd8b1388a1e10e7c7bd": {
          "model_module": "@jupyter-widgets/controls",
          "model_name": "ProgressStyleModel",
          "model_module_version": "1.5.0",
          "state": {
            "_model_module": "@jupyter-widgets/controls",
            "_model_module_version": "1.5.0",
            "_model_name": "ProgressStyleModel",
            "_view_count": null,
            "_view_module": "@jupyter-widgets/base",
            "_view_module_version": "1.2.0",
            "_view_name": "StyleView",
            "bar_color": null,
            "description_width": ""
          }
        },
        "3f817281091d4c85a2712e33c73bcdff": {
          "model_module": "@jupyter-widgets/base",
          "model_name": "LayoutModel",
          "model_module_version": "1.2.0",
          "state": {
            "_model_module": "@jupyter-widgets/base",
            "_model_module_version": "1.2.0",
            "_model_name": "LayoutModel",
            "_view_count": null,
            "_view_module": "@jupyter-widgets/base",
            "_view_module_version": "1.2.0",
            "_view_name": "LayoutView",
            "align_content": null,
            "align_items": null,
            "align_self": null,
            "border": null,
            "bottom": null,
            "display": null,
            "flex": null,
            "flex_flow": null,
            "grid_area": null,
            "grid_auto_columns": null,
            "grid_auto_flow": null,
            "grid_auto_rows": null,
            "grid_column": null,
            "grid_gap": null,
            "grid_row": null,
            "grid_template_areas": null,
            "grid_template_columns": null,
            "grid_template_rows": null,
            "height": null,
            "justify_content": null,
            "justify_items": null,
            "left": null,
            "margin": null,
            "max_height": null,
            "max_width": null,
            "min_height": null,
            "min_width": null,
            "object_fit": null,
            "object_position": null,
            "order": null,
            "overflow": null,
            "overflow_x": null,
            "overflow_y": null,
            "padding": null,
            "right": null,
            "top": null,
            "visibility": null,
            "width": null
          }
        },
        "a5de47df87614c50b461779aaf7e7492": {
          "model_module": "@jupyter-widgets/controls",
          "model_name": "DescriptionStyleModel",
          "model_module_version": "1.5.0",
          "state": {
            "_model_module": "@jupyter-widgets/controls",
            "_model_module_version": "1.5.0",
            "_model_name": "DescriptionStyleModel",
            "_view_count": null,
            "_view_module": "@jupyter-widgets/base",
            "_view_module_version": "1.2.0",
            "_view_name": "StyleView",
            "description_width": ""
          }
        },
        "544a1f2990434e95b6a3d22d7d8f90f3": {
          "model_module": "@jupyter-widgets/controls",
          "model_name": "HBoxModel",
          "model_module_version": "1.5.0",
          "state": {
            "_dom_classes": [],
            "_model_module": "@jupyter-widgets/controls",
            "_model_module_version": "1.5.0",
            "_model_name": "HBoxModel",
            "_view_count": null,
            "_view_module": "@jupyter-widgets/controls",
            "_view_module_version": "1.5.0",
            "_view_name": "HBoxView",
            "box_style": "",
            "children": [
              "IPY_MODEL_983d3696360e4e15b2fd07298459b68f",
              "IPY_MODEL_10e840749ef346e1b5d2e522cc4966fd",
              "IPY_MODEL_2d54cfb98d7b405eb9692cc0461452b0"
            ],
            "layout": "IPY_MODEL_dc7a2f41ce234c7fb3a7ed788e1fdee2"
          }
        },
        "983d3696360e4e15b2fd07298459b68f": {
          "model_module": "@jupyter-widgets/controls",
          "model_name": "HTMLModel",
          "model_module_version": "1.5.0",
          "state": {
            "_dom_classes": [],
            "_model_module": "@jupyter-widgets/controls",
            "_model_module_version": "1.5.0",
            "_model_name": "HTMLModel",
            "_view_count": null,
            "_view_module": "@jupyter-widgets/controls",
            "_view_module_version": "1.5.0",
            "_view_name": "HTMLView",
            "description": "",
            "description_tooltip": null,
            "layout": "IPY_MODEL_7f71b83f668c413b86bc9a62c56a51ee",
            "placeholder": "​",
            "style": "IPY_MODEL_8f643553c1e84e9a8d616e08d2bd2de6",
            "value": "Downloading (…)lve/main/config.json: 100%"
          }
        },
        "10e840749ef346e1b5d2e522cc4966fd": {
          "model_module": "@jupyter-widgets/controls",
          "model_name": "FloatProgressModel",
          "model_module_version": "1.5.0",
          "state": {
            "_dom_classes": [],
            "_model_module": "@jupyter-widgets/controls",
            "_model_module_version": "1.5.0",
            "_model_name": "FloatProgressModel",
            "_view_count": null,
            "_view_module": "@jupyter-widgets/controls",
            "_view_module_version": "1.5.0",
            "_view_name": "ProgressView",
            "bar_style": "success",
            "description": "",
            "description_tooltip": null,
            "layout": "IPY_MODEL_413a6f40d96542eb87c08241094fbd09",
            "max": 725,
            "min": 0,
            "orientation": "horizontal",
            "style": "IPY_MODEL_367387a618bb4aaaa3033c6b76055421",
            "value": 725
          }
        },
        "2d54cfb98d7b405eb9692cc0461452b0": {
          "model_module": "@jupyter-widgets/controls",
          "model_name": "HTMLModel",
          "model_module_version": "1.5.0",
          "state": {
            "_dom_classes": [],
            "_model_module": "@jupyter-widgets/controls",
            "_model_module_version": "1.5.0",
            "_model_name": "HTMLModel",
            "_view_count": null,
            "_view_module": "@jupyter-widgets/controls",
            "_view_module_version": "1.5.0",
            "_view_name": "HTMLView",
            "description": "",
            "description_tooltip": null,
            "layout": "IPY_MODEL_d9c4cc2418fe4ddd8f381a3c74a9b6c7",
            "placeholder": "​",
            "style": "IPY_MODEL_62ce83dc81cc48bd8aebd262284bbfd2",
            "value": " 725/725 [00:00&lt;00:00, 41.8kB/s]"
          }
        },
        "dc7a2f41ce234c7fb3a7ed788e1fdee2": {
          "model_module": "@jupyter-widgets/base",
          "model_name": "LayoutModel",
          "model_module_version": "1.2.0",
          "state": {
            "_model_module": "@jupyter-widgets/base",
            "_model_module_version": "1.2.0",
            "_model_name": "LayoutModel",
            "_view_count": null,
            "_view_module": "@jupyter-widgets/base",
            "_view_module_version": "1.2.0",
            "_view_name": "LayoutView",
            "align_content": null,
            "align_items": null,
            "align_self": null,
            "border": null,
            "bottom": null,
            "display": null,
            "flex": null,
            "flex_flow": null,
            "grid_area": null,
            "grid_auto_columns": null,
            "grid_auto_flow": null,
            "grid_auto_rows": null,
            "grid_column": null,
            "grid_gap": null,
            "grid_row": null,
            "grid_template_areas": null,
            "grid_template_columns": null,
            "grid_template_rows": null,
            "height": null,
            "justify_content": null,
            "justify_items": null,
            "left": null,
            "margin": null,
            "max_height": null,
            "max_width": null,
            "min_height": null,
            "min_width": null,
            "object_fit": null,
            "object_position": null,
            "order": null,
            "overflow": null,
            "overflow_x": null,
            "overflow_y": null,
            "padding": null,
            "right": null,
            "top": null,
            "visibility": null,
            "width": null
          }
        },
        "7f71b83f668c413b86bc9a62c56a51ee": {
          "model_module": "@jupyter-widgets/base",
          "model_name": "LayoutModel",
          "model_module_version": "1.2.0",
          "state": {
            "_model_module": "@jupyter-widgets/base",
            "_model_module_version": "1.2.0",
            "_model_name": "LayoutModel",
            "_view_count": null,
            "_view_module": "@jupyter-widgets/base",
            "_view_module_version": "1.2.0",
            "_view_name": "LayoutView",
            "align_content": null,
            "align_items": null,
            "align_self": null,
            "border": null,
            "bottom": null,
            "display": null,
            "flex": null,
            "flex_flow": null,
            "grid_area": null,
            "grid_auto_columns": null,
            "grid_auto_flow": null,
            "grid_auto_rows": null,
            "grid_column": null,
            "grid_gap": null,
            "grid_row": null,
            "grid_template_areas": null,
            "grid_template_columns": null,
            "grid_template_rows": null,
            "height": null,
            "justify_content": null,
            "justify_items": null,
            "left": null,
            "margin": null,
            "max_height": null,
            "max_width": null,
            "min_height": null,
            "min_width": null,
            "object_fit": null,
            "object_position": null,
            "order": null,
            "overflow": null,
            "overflow_x": null,
            "overflow_y": null,
            "padding": null,
            "right": null,
            "top": null,
            "visibility": null,
            "width": null
          }
        },
        "8f643553c1e84e9a8d616e08d2bd2de6": {
          "model_module": "@jupyter-widgets/controls",
          "model_name": "DescriptionStyleModel",
          "model_module_version": "1.5.0",
          "state": {
            "_model_module": "@jupyter-widgets/controls",
            "_model_module_version": "1.5.0",
            "_model_name": "DescriptionStyleModel",
            "_view_count": null,
            "_view_module": "@jupyter-widgets/base",
            "_view_module_version": "1.2.0",
            "_view_name": "StyleView",
            "description_width": ""
          }
        },
        "413a6f40d96542eb87c08241094fbd09": {
          "model_module": "@jupyter-widgets/base",
          "model_name": "LayoutModel",
          "model_module_version": "1.2.0",
          "state": {
            "_model_module": "@jupyter-widgets/base",
            "_model_module_version": "1.2.0",
            "_model_name": "LayoutModel",
            "_view_count": null,
            "_view_module": "@jupyter-widgets/base",
            "_view_module_version": "1.2.0",
            "_view_name": "LayoutView",
            "align_content": null,
            "align_items": null,
            "align_self": null,
            "border": null,
            "bottom": null,
            "display": null,
            "flex": null,
            "flex_flow": null,
            "grid_area": null,
            "grid_auto_columns": null,
            "grid_auto_flow": null,
            "grid_auto_rows": null,
            "grid_column": null,
            "grid_gap": null,
            "grid_row": null,
            "grid_template_areas": null,
            "grid_template_columns": null,
            "grid_template_rows": null,
            "height": null,
            "justify_content": null,
            "justify_items": null,
            "left": null,
            "margin": null,
            "max_height": null,
            "max_width": null,
            "min_height": null,
            "min_width": null,
            "object_fit": null,
            "object_position": null,
            "order": null,
            "overflow": null,
            "overflow_x": null,
            "overflow_y": null,
            "padding": null,
            "right": null,
            "top": null,
            "visibility": null,
            "width": null
          }
        },
        "367387a618bb4aaaa3033c6b76055421": {
          "model_module": "@jupyter-widgets/controls",
          "model_name": "ProgressStyleModel",
          "model_module_version": "1.5.0",
          "state": {
            "_model_module": "@jupyter-widgets/controls",
            "_model_module_version": "1.5.0",
            "_model_name": "ProgressStyleModel",
            "_view_count": null,
            "_view_module": "@jupyter-widgets/base",
            "_view_module_version": "1.2.0",
            "_view_name": "StyleView",
            "bar_color": null,
            "description_width": ""
          }
        },
        "d9c4cc2418fe4ddd8f381a3c74a9b6c7": {
          "model_module": "@jupyter-widgets/base",
          "model_name": "LayoutModel",
          "model_module_version": "1.2.0",
          "state": {
            "_model_module": "@jupyter-widgets/base",
            "_model_module_version": "1.2.0",
            "_model_name": "LayoutModel",
            "_view_count": null,
            "_view_module": "@jupyter-widgets/base",
            "_view_module_version": "1.2.0",
            "_view_name": "LayoutView",
            "align_content": null,
            "align_items": null,
            "align_self": null,
            "border": null,
            "bottom": null,
            "display": null,
            "flex": null,
            "flex_flow": null,
            "grid_area": null,
            "grid_auto_columns": null,
            "grid_auto_flow": null,
            "grid_auto_rows": null,
            "grid_column": null,
            "grid_gap": null,
            "grid_row": null,
            "grid_template_areas": null,
            "grid_template_columns": null,
            "grid_template_rows": null,
            "height": null,
            "justify_content": null,
            "justify_items": null,
            "left": null,
            "margin": null,
            "max_height": null,
            "max_width": null,
            "min_height": null,
            "min_width": null,
            "object_fit": null,
            "object_position": null,
            "order": null,
            "overflow": null,
            "overflow_x": null,
            "overflow_y": null,
            "padding": null,
            "right": null,
            "top": null,
            "visibility": null,
            "width": null
          }
        },
        "62ce83dc81cc48bd8aebd262284bbfd2": {
          "model_module": "@jupyter-widgets/controls",
          "model_name": "DescriptionStyleModel",
          "model_module_version": "1.5.0",
          "state": {
            "_model_module": "@jupyter-widgets/controls",
            "_model_module_version": "1.5.0",
            "_model_name": "DescriptionStyleModel",
            "_view_count": null,
            "_view_module": "@jupyter-widgets/base",
            "_view_module_version": "1.2.0",
            "_view_name": "StyleView",
            "description_width": ""
          }
        },
        "b86bec9de1fc43c3b60c10b10d6e982d": {
          "model_module": "@jupyter-widgets/controls",
          "model_name": "HBoxModel",
          "model_module_version": "1.5.0",
          "state": {
            "_dom_classes": [],
            "_model_module": "@jupyter-widgets/controls",
            "_model_module_version": "1.5.0",
            "_model_name": "HBoxModel",
            "_view_count": null,
            "_view_module": "@jupyter-widgets/controls",
            "_view_module_version": "1.5.0",
            "_view_name": "HBoxView",
            "box_style": "",
            "children": [
              "IPY_MODEL_212b822c23c34c93a4e7b6cefd9f4cdd",
              "IPY_MODEL_8969847f14b54d3c8c8a94c0baa68410",
              "IPY_MODEL_2af92eb8b8334d1d944a48b379d020da"
            ],
            "layout": "IPY_MODEL_42d19fbee534427081697a056b7e4da9"
          }
        },
        "212b822c23c34c93a4e7b6cefd9f4cdd": {
          "model_module": "@jupyter-widgets/controls",
          "model_name": "HTMLModel",
          "model_module_version": "1.5.0",
          "state": {
            "_dom_classes": [],
            "_model_module": "@jupyter-widgets/controls",
            "_model_module_version": "1.5.0",
            "_model_name": "HTMLModel",
            "_view_count": null,
            "_view_module": "@jupyter-widgets/controls",
            "_view_module_version": "1.5.0",
            "_view_name": "HTMLView",
            "description": "",
            "description_tooltip": null,
            "layout": "IPY_MODEL_adb87c18fdc0499392e7c6da364e75cd",
            "placeholder": "​",
            "style": "IPY_MODEL_4c2f898d76ea49e9b12ee172f70acb95",
            "value": "Downloading pytorch_model.bin: 100%"
          }
        },
        "8969847f14b54d3c8c8a94c0baa68410": {
          "model_module": "@jupyter-widgets/controls",
          "model_name": "FloatProgressModel",
          "model_module_version": "1.5.0",
          "state": {
            "_dom_classes": [],
            "_model_module": "@jupyter-widgets/controls",
            "_model_module_version": "1.5.0",
            "_model_name": "FloatProgressModel",
            "_view_count": null,
            "_view_module": "@jupyter-widgets/controls",
            "_view_module_version": "1.5.0",
            "_view_name": "ProgressView",
            "bar_style": "success",
            "description": "",
            "description_tooltip": null,
            "layout": "IPY_MODEL_813e0ffdd94248b1bc887bb52b541959",
            "max": 475782997,
            "min": 0,
            "orientation": "horizontal",
            "style": "IPY_MODEL_d86e2904d5a445f799dba3eb547f1155",
            "value": 475782997
          }
        },
        "2af92eb8b8334d1d944a48b379d020da": {
          "model_module": "@jupyter-widgets/controls",
          "model_name": "HTMLModel",
          "model_module_version": "1.5.0",
          "state": {
            "_dom_classes": [],
            "_model_module": "@jupyter-widgets/controls",
            "_model_module_version": "1.5.0",
            "_model_name": "HTMLModel",
            "_view_count": null,
            "_view_module": "@jupyter-widgets/controls",
            "_view_module_version": "1.5.0",
            "_view_name": "HTMLView",
            "description": "",
            "description_tooltip": null,
            "layout": "IPY_MODEL_6f19b0ec52974144a2a3d219945f56db",
            "placeholder": "​",
            "style": "IPY_MODEL_43a1e7f3104d43ff85005a849c14b37c",
            "value": " 476M/476M [00:44&lt;00:00, 10.2MB/s]"
          }
        },
        "42d19fbee534427081697a056b7e4da9": {
          "model_module": "@jupyter-widgets/base",
          "model_name": "LayoutModel",
          "model_module_version": "1.2.0",
          "state": {
            "_model_module": "@jupyter-widgets/base",
            "_model_module_version": "1.2.0",
            "_model_name": "LayoutModel",
            "_view_count": null,
            "_view_module": "@jupyter-widgets/base",
            "_view_module_version": "1.2.0",
            "_view_name": "LayoutView",
            "align_content": null,
            "align_items": null,
            "align_self": null,
            "border": null,
            "bottom": null,
            "display": null,
            "flex": null,
            "flex_flow": null,
            "grid_area": null,
            "grid_auto_columns": null,
            "grid_auto_flow": null,
            "grid_auto_rows": null,
            "grid_column": null,
            "grid_gap": null,
            "grid_row": null,
            "grid_template_areas": null,
            "grid_template_columns": null,
            "grid_template_rows": null,
            "height": null,
            "justify_content": null,
            "justify_items": null,
            "left": null,
            "margin": null,
            "max_height": null,
            "max_width": null,
            "min_height": null,
            "min_width": null,
            "object_fit": null,
            "object_position": null,
            "order": null,
            "overflow": null,
            "overflow_x": null,
            "overflow_y": null,
            "padding": null,
            "right": null,
            "top": null,
            "visibility": null,
            "width": null
          }
        },
        "adb87c18fdc0499392e7c6da364e75cd": {
          "model_module": "@jupyter-widgets/base",
          "model_name": "LayoutModel",
          "model_module_version": "1.2.0",
          "state": {
            "_model_module": "@jupyter-widgets/base",
            "_model_module_version": "1.2.0",
            "_model_name": "LayoutModel",
            "_view_count": null,
            "_view_module": "@jupyter-widgets/base",
            "_view_module_version": "1.2.0",
            "_view_name": "LayoutView",
            "align_content": null,
            "align_items": null,
            "align_self": null,
            "border": null,
            "bottom": null,
            "display": null,
            "flex": null,
            "flex_flow": null,
            "grid_area": null,
            "grid_auto_columns": null,
            "grid_auto_flow": null,
            "grid_auto_rows": null,
            "grid_column": null,
            "grid_gap": null,
            "grid_row": null,
            "grid_template_areas": null,
            "grid_template_columns": null,
            "grid_template_rows": null,
            "height": null,
            "justify_content": null,
            "justify_items": null,
            "left": null,
            "margin": null,
            "max_height": null,
            "max_width": null,
            "min_height": null,
            "min_width": null,
            "object_fit": null,
            "object_position": null,
            "order": null,
            "overflow": null,
            "overflow_x": null,
            "overflow_y": null,
            "padding": null,
            "right": null,
            "top": null,
            "visibility": null,
            "width": null
          }
        },
        "4c2f898d76ea49e9b12ee172f70acb95": {
          "model_module": "@jupyter-widgets/controls",
          "model_name": "DescriptionStyleModel",
          "model_module_version": "1.5.0",
          "state": {
            "_model_module": "@jupyter-widgets/controls",
            "_model_module_version": "1.5.0",
            "_model_name": "DescriptionStyleModel",
            "_view_count": null,
            "_view_module": "@jupyter-widgets/base",
            "_view_module_version": "1.2.0",
            "_view_name": "StyleView",
            "description_width": ""
          }
        },
        "813e0ffdd94248b1bc887bb52b541959": {
          "model_module": "@jupyter-widgets/base",
          "model_name": "LayoutModel",
          "model_module_version": "1.2.0",
          "state": {
            "_model_module": "@jupyter-widgets/base",
            "_model_module_version": "1.2.0",
            "_model_name": "LayoutModel",
            "_view_count": null,
            "_view_module": "@jupyter-widgets/base",
            "_view_module_version": "1.2.0",
            "_view_name": "LayoutView",
            "align_content": null,
            "align_items": null,
            "align_self": null,
            "border": null,
            "bottom": null,
            "display": null,
            "flex": null,
            "flex_flow": null,
            "grid_area": null,
            "grid_auto_columns": null,
            "grid_auto_flow": null,
            "grid_auto_rows": null,
            "grid_column": null,
            "grid_gap": null,
            "grid_row": null,
            "grid_template_areas": null,
            "grid_template_columns": null,
            "grid_template_rows": null,
            "height": null,
            "justify_content": null,
            "justify_items": null,
            "left": null,
            "margin": null,
            "max_height": null,
            "max_width": null,
            "min_height": null,
            "min_width": null,
            "object_fit": null,
            "object_position": null,
            "order": null,
            "overflow": null,
            "overflow_x": null,
            "overflow_y": null,
            "padding": null,
            "right": null,
            "top": null,
            "visibility": null,
            "width": null
          }
        },
        "d86e2904d5a445f799dba3eb547f1155": {
          "model_module": "@jupyter-widgets/controls",
          "model_name": "ProgressStyleModel",
          "model_module_version": "1.5.0",
          "state": {
            "_model_module": "@jupyter-widgets/controls",
            "_model_module_version": "1.5.0",
            "_model_name": "ProgressStyleModel",
            "_view_count": null,
            "_view_module": "@jupyter-widgets/base",
            "_view_module_version": "1.2.0",
            "_view_name": "StyleView",
            "bar_color": null,
            "description_width": ""
          }
        },
        "6f19b0ec52974144a2a3d219945f56db": {
          "model_module": "@jupyter-widgets/base",
          "model_name": "LayoutModel",
          "model_module_version": "1.2.0",
          "state": {
            "_model_module": "@jupyter-widgets/base",
            "_model_module_version": "1.2.0",
            "_model_name": "LayoutModel",
            "_view_count": null,
            "_view_module": "@jupyter-widgets/base",
            "_view_module_version": "1.2.0",
            "_view_name": "LayoutView",
            "align_content": null,
            "align_items": null,
            "align_self": null,
            "border": null,
            "bottom": null,
            "display": null,
            "flex": null,
            "flex_flow": null,
            "grid_area": null,
            "grid_auto_columns": null,
            "grid_auto_flow": null,
            "grid_auto_rows": null,
            "grid_column": null,
            "grid_gap": null,
            "grid_row": null,
            "grid_template_areas": null,
            "grid_template_columns": null,
            "grid_template_rows": null,
            "height": null,
            "justify_content": null,
            "justify_items": null,
            "left": null,
            "margin": null,
            "max_height": null,
            "max_width": null,
            "min_height": null,
            "min_width": null,
            "object_fit": null,
            "object_position": null,
            "order": null,
            "overflow": null,
            "overflow_x": null,
            "overflow_y": null,
            "padding": null,
            "right": null,
            "top": null,
            "visibility": null,
            "width": null
          }
        },
        "43a1e7f3104d43ff85005a849c14b37c": {
          "model_module": "@jupyter-widgets/controls",
          "model_name": "DescriptionStyleModel",
          "model_module_version": "1.5.0",
          "state": {
            "_model_module": "@jupyter-widgets/controls",
            "_model_module_version": "1.5.0",
            "_model_name": "DescriptionStyleModel",
            "_view_count": null,
            "_view_module": "@jupyter-widgets/base",
            "_view_module_version": "1.2.0",
            "_view_name": "StyleView",
            "description_width": ""
          }
        }
      }
    }
  },
  "cells": [
    {
      "cell_type": "code",
      "source": [
        "!pip install Korpora\n",
        "!pip install transformers"
      ],
      "metadata": {
        "colab": {
          "base_uri": "https://localhost:8080/",
          "height": 876
        },
        "id": "kXqy3F1lcjdN",
        "outputId": "9a7a4297-b1ef-4d3e-d447-93c19b66c7fb"
      },
      "execution_count": 1,
      "outputs": [
        {
          "output_type": "stream",
          "name": "stdout",
          "text": [
            "Collecting Korpora\n",
            "  Downloading Korpora-0.2.0-py3-none-any.whl (57 kB)\n",
            "\u001b[?25l     \u001b[90m━━━━━━━━━━━━━━━━━━━━━━━━━━━━━━━━━━━━━━━━\u001b[0m \u001b[32m0.0/57.8 kB\u001b[0m \u001b[31m?\u001b[0m eta \u001b[36m-:--:--\u001b[0m\r\u001b[2K     \u001b[91m━━━━━━━━━━━━━━━━━━━━━━━━━━━━━━━━━━━\u001b[0m\u001b[90m╺\u001b[0m\u001b[90m━━━━\u001b[0m \u001b[32m51.2/57.8 kB\u001b[0m \u001b[31m1.8 MB/s\u001b[0m eta \u001b[36m0:00:01\u001b[0m\r\u001b[2K     \u001b[90m━━━━━━━━━━━━━━━━━━━━━━━━━━━━━━━━━━━━━━━━\u001b[0m \u001b[32m57.8/57.8 kB\u001b[0m \u001b[31m1.2 MB/s\u001b[0m eta \u001b[36m0:00:00\u001b[0m\n",
            "\u001b[?25hCollecting dataclasses>=0.6 (from Korpora)\n",
            "  Downloading dataclasses-0.6-py3-none-any.whl (14 kB)\n",
            "Requirement already satisfied: numpy>=1.18.0 in /usr/local/lib/python3.10/dist-packages (from Korpora) (1.22.4)\n",
            "Requirement already satisfied: tqdm>=4.46.0 in /usr/local/lib/python3.10/dist-packages (from Korpora) (4.65.0)\n",
            "Requirement already satisfied: requests>=2.20.0 in /usr/local/lib/python3.10/dist-packages (from Korpora) (2.27.1)\n",
            "Requirement already satisfied: xlrd>=1.2.0 in /usr/local/lib/python3.10/dist-packages (from Korpora) (2.0.1)\n",
            "Requirement already satisfied: urllib3<1.27,>=1.21.1 in /usr/local/lib/python3.10/dist-packages (from requests>=2.20.0->Korpora) (1.26.16)\n",
            "Requirement already satisfied: certifi>=2017.4.17 in /usr/local/lib/python3.10/dist-packages (from requests>=2.20.0->Korpora) (2023.7.22)\n",
            "Requirement already satisfied: charset-normalizer~=2.0.0 in /usr/local/lib/python3.10/dist-packages (from requests>=2.20.0->Korpora) (2.0.12)\n",
            "Requirement already satisfied: idna<4,>=2.5 in /usr/local/lib/python3.10/dist-packages (from requests>=2.20.0->Korpora) (3.4)\n",
            "Installing collected packages: dataclasses, Korpora\n",
            "Successfully installed Korpora-0.2.0 dataclasses-0.6\n"
          ]
        },
        {
          "output_type": "display_data",
          "data": {
            "application/vnd.colab-display-data+json": {
              "pip_warning": {
                "packages": [
                  "dataclasses"
                ]
              }
            }
          },
          "metadata": {}
        },
        {
          "output_type": "stream",
          "name": "stdout",
          "text": [
            "Collecting transformers\n",
            "  Downloading transformers-4.31.0-py3-none-any.whl (7.4 MB)\n",
            "\u001b[2K     \u001b[90m━━━━━━━━━━━━━━━━━━━━━━━━━━━━━━━━━━━━━━━━\u001b[0m \u001b[32m7.4/7.4 MB\u001b[0m \u001b[31m51.5 MB/s\u001b[0m eta \u001b[36m0:00:00\u001b[0m\n",
            "\u001b[?25hRequirement already satisfied: filelock in /usr/local/lib/python3.10/dist-packages (from transformers) (3.12.2)\n",
            "Collecting huggingface-hub<1.0,>=0.14.1 (from transformers)\n",
            "  Downloading huggingface_hub-0.16.4-py3-none-any.whl (268 kB)\n",
            "\u001b[2K     \u001b[90m━━━━━━━━━━━━━━━━━━━━━━━━━━━━━━━━━━━━━━\u001b[0m \u001b[32m268.8/268.8 kB\u001b[0m \u001b[31m27.7 MB/s\u001b[0m eta \u001b[36m0:00:00\u001b[0m\n",
            "\u001b[?25hRequirement already satisfied: numpy>=1.17 in /usr/local/lib/python3.10/dist-packages (from transformers) (1.22.4)\n",
            "Requirement already satisfied: packaging>=20.0 in /usr/local/lib/python3.10/dist-packages (from transformers) (23.1)\n",
            "Requirement already satisfied: pyyaml>=5.1 in /usr/local/lib/python3.10/dist-packages (from transformers) (6.0.1)\n",
            "Requirement already satisfied: regex!=2019.12.17 in /usr/local/lib/python3.10/dist-packages (from transformers) (2022.10.31)\n",
            "Requirement already satisfied: requests in /usr/local/lib/python3.10/dist-packages (from transformers) (2.27.1)\n",
            "Collecting tokenizers!=0.11.3,<0.14,>=0.11.1 (from transformers)\n",
            "  Downloading tokenizers-0.13.3-cp310-cp310-manylinux_2_17_x86_64.manylinux2014_x86_64.whl (7.8 MB)\n",
            "\u001b[2K     \u001b[90m━━━━━━━━━━━━━━━━━━━━━━━━━━━━━━━━━━━━━━━━\u001b[0m \u001b[32m7.8/7.8 MB\u001b[0m \u001b[31m89.8 MB/s\u001b[0m eta \u001b[36m0:00:00\u001b[0m\n",
            "\u001b[?25hCollecting safetensors>=0.3.1 (from transformers)\n",
            "  Downloading safetensors-0.3.1-cp310-cp310-manylinux_2_17_x86_64.manylinux2014_x86_64.whl (1.3 MB)\n",
            "\u001b[2K     \u001b[90m━━━━━━━━━━━━━━━━━━━━━━━━━━━━━━━━━━━━━━━━\u001b[0m \u001b[32m1.3/1.3 MB\u001b[0m \u001b[31m67.5 MB/s\u001b[0m eta \u001b[36m0:00:00\u001b[0m\n",
            "\u001b[?25hRequirement already satisfied: tqdm>=4.27 in /usr/local/lib/python3.10/dist-packages (from transformers) (4.65.0)\n",
            "Requirement already satisfied: fsspec in /usr/local/lib/python3.10/dist-packages (from huggingface-hub<1.0,>=0.14.1->transformers) (2023.6.0)\n",
            "Requirement already satisfied: typing-extensions>=3.7.4.3 in /usr/local/lib/python3.10/dist-packages (from huggingface-hub<1.0,>=0.14.1->transformers) (4.7.1)\n",
            "Requirement already satisfied: urllib3<1.27,>=1.21.1 in /usr/local/lib/python3.10/dist-packages (from requests->transformers) (1.26.16)\n",
            "Requirement already satisfied: certifi>=2017.4.17 in /usr/local/lib/python3.10/dist-packages (from requests->transformers) (2023.7.22)\n",
            "Requirement already satisfied: charset-normalizer~=2.0.0 in /usr/local/lib/python3.10/dist-packages (from requests->transformers) (2.0.12)\n",
            "Requirement already satisfied: idna<4,>=2.5 in /usr/local/lib/python3.10/dist-packages (from requests->transformers) (3.4)\n",
            "Installing collected packages: tokenizers, safetensors, huggingface-hub, transformers\n",
            "Successfully installed huggingface-hub-0.16.4 safetensors-0.3.1 tokenizers-0.13.3 transformers-4.31.0\n"
          ]
        }
      ]
    },
    {
      "cell_type": "code",
      "execution_count": 2,
      "metadata": {
        "id": "qtSwvHh9cdT6"
      },
      "outputs": [],
      "source": [
        "import os\n",
        "import numpy as np\n",
        "import torch\n",
        "import torch.nn as nn\n",
        "import torch.optim as optim\n",
        "import torch.nn.functional as F\n",
        "os.environ[\"TOKENIZERS_PARALLELISM\"] = 'true'\n",
        "\n",
        "device = torch.device('cuda:0' if torch.cuda.is_available() else 'cpu')"
      ]
    },
    {
      "cell_type": "code",
      "source": [
        "import pandas as pd\n",
        "\n",
        "train_1 = pd.read_csv('/content/drive/MyDrive/ITStudy/기술세미나3차/data/0725.csv',encoding='cp949',names=['id','document','label'])\n",
        "train_2 = pd.read_csv('/content/drive/MyDrive/ITStudy/기술세미나3차/data/normal.csv',encoding='cp949',names=['id','document','label'])\n",
        "train_3 = pd.read_csv('/content/drive/MyDrive/ITStudy/기술세미나3차/data/unnormal.csv',encoding='cp949',names=['id','document','label'])\n",
        "\n",
        "train_2 = train_2.sample(10000)\n",
        "\n",
        "test = pd.read_csv('/content/drive/MyDrive/ITStudy/기술세미나3차/data/0726.csv',encoding='cp949',names=['id','document','label'])\n",
        "test1 = pd.read_csv('/content/drive/MyDrive/ITStudy/기술세미나3차/data/instagram.csv',encoding='cp949',names=['id','document','label'])\n",
        "\n",
        "train = pd.concat([train_1,train_2,train_3])"
      ],
      "metadata": {
        "id": "i2PpKb23dbYb"
      },
      "execution_count": 3,
      "outputs": []
    },
    {
      "cell_type": "code",
      "source": [
        "train['length'] = train['document'].apply(lambda x: len(str(x)))\n",
        "test['length'] = test['document'].apply(lambda x: len(str(x)))\n",
        "test1['length'] = test1['document'].apply(lambda x: len(str(x)))"
      ],
      "metadata": {
        "id": "MD6ez6YudvHo"
      },
      "execution_count": 4,
      "outputs": []
    },
    {
      "cell_type": "code",
      "source": [
        "train.head(10)"
      ],
      "metadata": {
        "colab": {
          "base_uri": "https://localhost:8080/",
          "height": 363
        },
        "id": "ETVBC8hhwqo3",
        "outputId": "e61911d9-63bf-4a7d-9140-ab6602f67867"
      },
      "execution_count": 5,
      "outputs": [
        {
          "output_type": "execute_result",
          "data": {
            "text/plain": [
              "      id                                           document  label  length\n",
              "0  0.wav  현재 군 사건은 본인뿐만 아니라 전국에 걸쳐 180명도 연루가 된 광범위한 금룡제 ...      0      50\n",
              "1  0.wav  저희가 원래 소환조사가 원칙이지만 180명 연루가 돼 있다 보니 저희가 다 일일이 ...      0     164\n",
              "2  0.wav  알겠습니다. 진술받았고요. 마지막 진술을 받고 담당 검사님이 이관을 시켜드릴 거예요...      0      89\n",
              "3  0.wav  이상 말씀드리겠습니다. 제3자의 육성 또는 기타 소문 들릴 시 녹취파일스 김주라는 ...      0     118\n",
              "4  0.wav  가 보니 위치하신 곳이 직장이신 거예요 아니면 자택이신 거예요? 직장이시면 혹시 메...      0      86\n",
              "5  0.wav  욕실 진행을 할 거예요. 본인 육성만 들러야 되는데요. 제3차 육성이나 기타 선으로...      0      95\n",
              "6  0.wav  다 대면이고, 본인과 연루된 명의도용 사건이 접수가 돼서 몇 가지 흑인차 연락을 드...      0      51\n",
              "7  0.wav  혹시 본인 김천우라고 아시는 분이신가요? 처음 들어보신 분이에요. 저희 쪽에서는 사...      0      77\n",
              "8  0.wav  알겠습니다. 우리은행에는 입출금하나 청약하나 따로 와인성장, 정기예금 전권 부분은 ...      0      78\n",
              "9  0.wav  입출금 한 게 농약 부분에도 입출금 한 개만 있으신 것 같고 적금이나 다른 정기 예...      0     154"
            ],
            "text/html": [
              "\n",
              "\n",
              "  <div id=\"df-4a440796-803b-4e7d-96c1-57cd15d21606\">\n",
              "    <div class=\"colab-df-container\">\n",
              "      <div>\n",
              "<style scoped>\n",
              "    .dataframe tbody tr th:only-of-type {\n",
              "        vertical-align: middle;\n",
              "    }\n",
              "\n",
              "    .dataframe tbody tr th {\n",
              "        vertical-align: top;\n",
              "    }\n",
              "\n",
              "    .dataframe thead th {\n",
              "        text-align: right;\n",
              "    }\n",
              "</style>\n",
              "<table border=\"1\" class=\"dataframe\">\n",
              "  <thead>\n",
              "    <tr style=\"text-align: right;\">\n",
              "      <th></th>\n",
              "      <th>id</th>\n",
              "      <th>document</th>\n",
              "      <th>label</th>\n",
              "      <th>length</th>\n",
              "    </tr>\n",
              "  </thead>\n",
              "  <tbody>\n",
              "    <tr>\n",
              "      <th>0</th>\n",
              "      <td>0.wav</td>\n",
              "      <td>현재 군 사건은 본인뿐만 아니라 전국에 걸쳐 180명도 연루가 된 광범위한 금룡제 ...</td>\n",
              "      <td>0</td>\n",
              "      <td>50</td>\n",
              "    </tr>\n",
              "    <tr>\n",
              "      <th>1</th>\n",
              "      <td>0.wav</td>\n",
              "      <td>저희가 원래 소환조사가 원칙이지만 180명 연루가 돼 있다 보니 저희가 다 일일이 ...</td>\n",
              "      <td>0</td>\n",
              "      <td>164</td>\n",
              "    </tr>\n",
              "    <tr>\n",
              "      <th>2</th>\n",
              "      <td>0.wav</td>\n",
              "      <td>알겠습니다. 진술받았고요. 마지막 진술을 받고 담당 검사님이 이관을 시켜드릴 거예요...</td>\n",
              "      <td>0</td>\n",
              "      <td>89</td>\n",
              "    </tr>\n",
              "    <tr>\n",
              "      <th>3</th>\n",
              "      <td>0.wav</td>\n",
              "      <td>이상 말씀드리겠습니다. 제3자의 육성 또는 기타 소문 들릴 시 녹취파일스 김주라는 ...</td>\n",
              "      <td>0</td>\n",
              "      <td>118</td>\n",
              "    </tr>\n",
              "    <tr>\n",
              "      <th>4</th>\n",
              "      <td>0.wav</td>\n",
              "      <td>가 보니 위치하신 곳이 직장이신 거예요 아니면 자택이신 거예요? 직장이시면 혹시 메...</td>\n",
              "      <td>0</td>\n",
              "      <td>86</td>\n",
              "    </tr>\n",
              "    <tr>\n",
              "      <th>5</th>\n",
              "      <td>0.wav</td>\n",
              "      <td>욕실 진행을 할 거예요. 본인 육성만 들러야 되는데요. 제3차 육성이나 기타 선으로...</td>\n",
              "      <td>0</td>\n",
              "      <td>95</td>\n",
              "    </tr>\n",
              "    <tr>\n",
              "      <th>6</th>\n",
              "      <td>0.wav</td>\n",
              "      <td>다 대면이고, 본인과 연루된 명의도용 사건이 접수가 돼서 몇 가지 흑인차 연락을 드...</td>\n",
              "      <td>0</td>\n",
              "      <td>51</td>\n",
              "    </tr>\n",
              "    <tr>\n",
              "      <th>7</th>\n",
              "      <td>0.wav</td>\n",
              "      <td>혹시 본인 김천우라고 아시는 분이신가요? 처음 들어보신 분이에요. 저희 쪽에서는 사...</td>\n",
              "      <td>0</td>\n",
              "      <td>77</td>\n",
              "    </tr>\n",
              "    <tr>\n",
              "      <th>8</th>\n",
              "      <td>0.wav</td>\n",
              "      <td>알겠습니다. 우리은행에는 입출금하나 청약하나 따로 와인성장, 정기예금 전권 부분은 ...</td>\n",
              "      <td>0</td>\n",
              "      <td>78</td>\n",
              "    </tr>\n",
              "    <tr>\n",
              "      <th>9</th>\n",
              "      <td>0.wav</td>\n",
              "      <td>입출금 한 게 농약 부분에도 입출금 한 개만 있으신 것 같고 적금이나 다른 정기 예...</td>\n",
              "      <td>0</td>\n",
              "      <td>154</td>\n",
              "    </tr>\n",
              "  </tbody>\n",
              "</table>\n",
              "</div>\n",
              "      <button class=\"colab-df-convert\" onclick=\"convertToInteractive('df-4a440796-803b-4e7d-96c1-57cd15d21606')\"\n",
              "              title=\"Convert this dataframe to an interactive table.\"\n",
              "              style=\"display:none;\">\n",
              "\n",
              "  <svg xmlns=\"http://www.w3.org/2000/svg\" height=\"24px\"viewBox=\"0 0 24 24\"\n",
              "       width=\"24px\">\n",
              "    <path d=\"M0 0h24v24H0V0z\" fill=\"none\"/>\n",
              "    <path d=\"M18.56 5.44l.94 2.06.94-2.06 2.06-.94-2.06-.94-.94-2.06-.94 2.06-2.06.94zm-11 1L8.5 8.5l.94-2.06 2.06-.94-2.06-.94L8.5 2.5l-.94 2.06-2.06.94zm10 10l.94 2.06.94-2.06 2.06-.94-2.06-.94-.94-2.06-.94 2.06-2.06.94z\"/><path d=\"M17.41 7.96l-1.37-1.37c-.4-.4-.92-.59-1.43-.59-.52 0-1.04.2-1.43.59L10.3 9.45l-7.72 7.72c-.78.78-.78 2.05 0 2.83L4 21.41c.39.39.9.59 1.41.59.51 0 1.02-.2 1.41-.59l7.78-7.78 2.81-2.81c.8-.78.8-2.07 0-2.86zM5.41 20L4 18.59l7.72-7.72 1.47 1.35L5.41 20z\"/>\n",
              "  </svg>\n",
              "      </button>\n",
              "\n",
              "\n",
              "\n",
              "    <div id=\"df-409ff6cc-c617-4f2c-b8e6-0763566a6764\">\n",
              "      <button class=\"colab-df-quickchart\" onclick=\"quickchart('df-409ff6cc-c617-4f2c-b8e6-0763566a6764')\"\n",
              "              title=\"Suggest charts.\"\n",
              "              style=\"display:none;\">\n",
              "\n",
              "<svg xmlns=\"http://www.w3.org/2000/svg\" height=\"24px\"viewBox=\"0 0 24 24\"\n",
              "     width=\"24px\">\n",
              "    <g>\n",
              "        <path d=\"M19 3H5c-1.1 0-2 .9-2 2v14c0 1.1.9 2 2 2h14c1.1 0 2-.9 2-2V5c0-1.1-.9-2-2-2zM9 17H7v-7h2v7zm4 0h-2V7h2v10zm4 0h-2v-4h2v4z\"/>\n",
              "    </g>\n",
              "</svg>\n",
              "      </button>\n",
              "    </div>\n",
              "\n",
              "<style>\n",
              "  .colab-df-quickchart {\n",
              "    background-color: #E8F0FE;\n",
              "    border: none;\n",
              "    border-radius: 50%;\n",
              "    cursor: pointer;\n",
              "    display: none;\n",
              "    fill: #1967D2;\n",
              "    height: 32px;\n",
              "    padding: 0 0 0 0;\n",
              "    width: 32px;\n",
              "  }\n",
              "\n",
              "  .colab-df-quickchart:hover {\n",
              "    background-color: #E2EBFA;\n",
              "    box-shadow: 0px 1px 2px rgba(60, 64, 67, 0.3), 0px 1px 3px 1px rgba(60, 64, 67, 0.15);\n",
              "    fill: #174EA6;\n",
              "  }\n",
              "\n",
              "  [theme=dark] .colab-df-quickchart {\n",
              "    background-color: #3B4455;\n",
              "    fill: #D2E3FC;\n",
              "  }\n",
              "\n",
              "  [theme=dark] .colab-df-quickchart:hover {\n",
              "    background-color: #434B5C;\n",
              "    box-shadow: 0px 1px 3px 1px rgba(0, 0, 0, 0.15);\n",
              "    filter: drop-shadow(0px 1px 2px rgba(0, 0, 0, 0.3));\n",
              "    fill: #FFFFFF;\n",
              "  }\n",
              "</style>\n",
              "\n",
              "    <script>\n",
              "      async function quickchart(key) {\n",
              "        const containerElement = document.querySelector('#' + key);\n",
              "        const charts = await google.colab.kernel.invokeFunction(\n",
              "            'suggestCharts', [key], {});\n",
              "      }\n",
              "    </script>\n",
              "\n",
              "      <script>\n",
              "\n",
              "function displayQuickchartButton(domScope) {\n",
              "  let quickchartButtonEl =\n",
              "    domScope.querySelector('#df-409ff6cc-c617-4f2c-b8e6-0763566a6764 button.colab-df-quickchart');\n",
              "  quickchartButtonEl.style.display =\n",
              "    google.colab.kernel.accessAllowed ? 'block' : 'none';\n",
              "}\n",
              "\n",
              "        displayQuickchartButton(document);\n",
              "      </script>\n",
              "      <style>\n",
              "    .colab-df-container {\n",
              "      display:flex;\n",
              "      flex-wrap:wrap;\n",
              "      gap: 12px;\n",
              "    }\n",
              "\n",
              "    .colab-df-convert {\n",
              "      background-color: #E8F0FE;\n",
              "      border: none;\n",
              "      border-radius: 50%;\n",
              "      cursor: pointer;\n",
              "      display: none;\n",
              "      fill: #1967D2;\n",
              "      height: 32px;\n",
              "      padding: 0 0 0 0;\n",
              "      width: 32px;\n",
              "    }\n",
              "\n",
              "    .colab-df-convert:hover {\n",
              "      background-color: #E2EBFA;\n",
              "      box-shadow: 0px 1px 2px rgba(60, 64, 67, 0.3), 0px 1px 3px 1px rgba(60, 64, 67, 0.15);\n",
              "      fill: #174EA6;\n",
              "    }\n",
              "\n",
              "    [theme=dark] .colab-df-convert {\n",
              "      background-color: #3B4455;\n",
              "      fill: #D2E3FC;\n",
              "    }\n",
              "\n",
              "    [theme=dark] .colab-df-convert:hover {\n",
              "      background-color: #434B5C;\n",
              "      box-shadow: 0px 1px 3px 1px rgba(0, 0, 0, 0.15);\n",
              "      filter: drop-shadow(0px 1px 2px rgba(0, 0, 0, 0.3));\n",
              "      fill: #FFFFFF;\n",
              "    }\n",
              "  </style>\n",
              "\n",
              "      <script>\n",
              "        const buttonEl =\n",
              "          document.querySelector('#df-4a440796-803b-4e7d-96c1-57cd15d21606 button.colab-df-convert');\n",
              "        buttonEl.style.display =\n",
              "          google.colab.kernel.accessAllowed ? 'block' : 'none';\n",
              "\n",
              "        async function convertToInteractive(key) {\n",
              "          const element = document.querySelector('#df-4a440796-803b-4e7d-96c1-57cd15d21606');\n",
              "          const dataTable =\n",
              "            await google.colab.kernel.invokeFunction('convertToInteractive',\n",
              "                                                     [key], {});\n",
              "          if (!dataTable) return;\n",
              "\n",
              "          const docLinkHtml = 'Like what you see? Visit the ' +\n",
              "            '<a target=\"_blank\" href=https://colab.research.google.com/notebooks/data_table.ipynb>data table notebook</a>'\n",
              "            + ' to learn more about interactive tables.';\n",
              "          element.innerHTML = '';\n",
              "          dataTable['output_type'] = 'display_data';\n",
              "          await google.colab.output.renderOutput(dataTable, element);\n",
              "          const docLink = document.createElement('div');\n",
              "          docLink.innerHTML = docLinkHtml;\n",
              "          element.appendChild(docLink);\n",
              "        }\n",
              "      </script>\n",
              "    </div>\n",
              "  </div>\n"
            ]
          },
          "metadata": {},
          "execution_count": 5
        }
      ]
    },
    {
      "cell_type": "code",
      "source": [
        " train.loc[train['length']<5]['document'].unique()"
      ],
      "metadata": {
        "colab": {
          "base_uri": "https://localhost:8080/"
        },
        "id": "vA0904OVz2hK",
        "outputId": "861c3f9a-5293-48ab-b770-1523cd2a442c"
      },
      "execution_count": 6,
      "outputs": [
        {
          "output_type": "execute_result",
          "data": {
            "text/plain": [
              "array(['후', '어', '그', '쉬고', nan, '되죠.', '많아요.', '요,', '..', '.', '...',\n",
              "       '한 분이', '그렇지', '어색해', '그렇구나', '보여줘?', '짱이군', '재밌겠당', '아니야', '실화냐',\n",
              "       '맞아!', '나야나!', '그러게', '아 맞아', '아 웃겨', '맞아요', '아 맞다', '모르지', '그래?',\n",
              "       '고맙겠다', '그러게요', '멋있음', '웃기네', '상체쪽?', '언제?', '그럴듯', '그래 뭐', '좋겠다',\n",
              "       '착각도.', '웅 좋아', '그러게,', '볼링?', '수학?', '맞습니다', '왜죠?', '사표라니', '좋아~',\n",
              "       'RGRG', '그럴껄?', '부럽네', '알았어', '웅 맞아', '알바?', '오 좋다', '죽겠어', '마자요',\n",
              "       '재밌겠다', '참나.', '누가?', '헐 대박', '맛있더라', '그렇죠', '아하…', '모르겠네', '아니냐?',\n",
              "       '아니아니', '흐엉 ㅜ', '아쉽네요', '수중?', '이상해', '개부럽다', '아니요', '강화도?', '복불복',\n",
              "       '심하네', '이해해', '하긴.', '그치!', '힘드네요', '난 별로', '엉 키키', '진짜?', '그렇조',\n",
              "       '응 키키', '어 키키', '그렇죠?', '줄여야지', '옹 키키', '아 그치', '봐야겠다', '부러워',\n",
              "       '쌤은요?', '이제?', '아 예', '네', '예', '아', '아 네', '예 예', '네 네', '그러면',\n",
              "       '네네.', '예?', '네.', '네 네.', '네네네.', '예.', '아...', '음...', '예,',\n",
              "       '네 .', '예 .', '네?', '어...', '하...', '예 예.', '아 네.', '응.', '여보세요',\n",
              "       '아 예.', '아~', '음 네네', '음', '그쵸', '2주요?', '없어요', '자가요', '(삐-)',\n",
              "       '아니..', '아줌마', '근데', '그럼요?', '그래요', '29', '5523', '44', '공사?',\n",
              "       '공사요?', '4%요?', '고객님.', '그니까', '그래요?', '왜요?', '그렇죠.', '응', '수진',\n",
              "       '그럼요', '맞잖아요', '맞죠', '참나', '범용이요', '니가?', '기업은행', '맞지?', '싫어요',\n",
              "       '와', '흐음', 'OOOO', '안되죠.', '각서요?', '아니죠.', '그쵸.', '안돼요?', '강 해?',\n",
              "       '중?', '잠깐만요', '8일요?', '그럼요.', '어제요.', '명동..', '이민..', '용', '아저씨',\n",
              "       '오류요?', '네네', '몰라요.', '아..', '네네네네', '응..', '예예', 'OO요.', '습니다',\n",
              "       '아\\u3000네', '아니요.', '아 예예', 'O', 'OOO', '강승규.', '근데요', '그러쵸',\n",
              "       '네네네', '아아', '그러면은', '농협하고', '예예예', '오전에?', '가야죠.', '아 네네', '국민은행',\n",
              "       '아 그럼', '거봐라', '안되지', '그러니까', '어디요?', 'OOO?', '....', '있어요？', '직장',\n",
              "       'O년생', '면제에요', '삼년이요', '고객님', '예？', '에예', '예예.', '언제요?', '아 음.',\n",
              "       '예예예.', 'SC은행', '네에.', '아…', '예에.', '에.', '근데?', '있어요.', '예..',\n",
              "       '6713', '0311', '네, 아', '얼마?', '네~에.', '책책', '그쳐', '잠시만요', '어떤..',\n",
              "       'ㅇㅇ쪽', '아닙니다', '천만원', '알았어요', 'ㅇㅇ이요', '의료요', 'SKT', '팔 점?', '신청하기',\n",
              "       '울산요', 'SKT요', '수납요?'], dtype=object)"
            ]
          },
          "metadata": {},
          "execution_count": 6
        }
      ]
    },
    {
      "cell_type": "code",
      "source": [
        "train = train.loc[train['length'] > 5]\n",
        "\n",
        "test1.dropna(inplace=True)\n",
        "test = test.loc[test['length'] > 5]\n",
        "test1 = test1.loc[test1['length']>5]"
      ],
      "metadata": {
        "id": "ZK1zSXi3d0pn"
      },
      "execution_count": 7,
      "outputs": []
    },
    {
      "cell_type": "code",
      "source": [
        "CHECKPOINT_NAME = 'kykim/bert-kor-base'"
      ],
      "metadata": {
        "id": "hTkWniC5d4Gr"
      },
      "execution_count": 8,
      "outputs": []
    },
    {
      "cell_type": "code",
      "source": [
        "import torch\n",
        "from transformers import BertTokenizerFast\n",
        "from torch.utils.data import Dataset, DataLoader\n",
        "\n",
        "\n",
        "class TokenDataset(Dataset):\n",
        "\n",
        "    def __init__(self, dataframe, tokenizer_pretrained):\n",
        "        self.data = dataframe\n",
        "        self.tokenizer = BertTokenizerFast.from_pretrained(tokenizer_pretrained)\n",
        "\n",
        "    def __len__(self):\n",
        "        return len(self.data)\n",
        "\n",
        "    def __getitem__(self, idx):\n",
        "        sentence = self.data.iloc[idx]['document']\n",
        "        label = self.data.iloc[idx]['label']\n",
        "\n",
        "        # 토큰화 처리\n",
        "        tokens = self.tokenizer(\n",
        "            sentence,                # 1개 문장\n",
        "            return_tensors='pt',     # 텐서로 반환\n",
        "            truncation=True,         # 잘라내기 적용\n",
        "            padding='max_length',    # 패딩 적용\n",
        "            add_special_tokens=True  # 스페셜 토큰 적용\n",
        "        )\n",
        "\n",
        "        input_ids = tokens['input_ids'].squeeze(0)\n",
        "        attention_mask = tokens['attention_mask'].squeeze(0)\n",
        "        token_type_ids = torch.zeros_like(attention_mask)\n",
        "\n",
        "        return {\n",
        "            'input_ids': input_ids,\n",
        "            'attention_mask': attention_mask,\n",
        "            'token_type_ids': token_type_ids,\n",
        "        }, torch.tensor(label)\n"
      ],
      "metadata": {
        "id": "-vC1vv_kd99y"
      },
      "execution_count": 9,
      "outputs": []
    },
    {
      "cell_type": "code",
      "source": [
        "tokenizer_pretrained = CHECKPOINT_NAME\n",
        "\n",
        "train_data = TokenDataset(train, tokenizer_pretrained)\n",
        "test_data = TokenDataset(test, tokenizer_pretrained)\n",
        "\n",
        "train_loader = DataLoader(train_data, batch_size=8, shuffle=True, num_workers=8)\n",
        "test_loader = DataLoader(test_data, batch_size=8, shuffle=True, num_workers=8)"
      ],
      "metadata": {
        "colab": {
          "base_uri": "https://localhost:8080/",
          "height": 169,
          "referenced_widgets": [
            "4971c5c46bed4c3b83925b7f9119d712",
            "df59025d5f7043059f1a4646376587f8",
            "1ba2ac7f24564f76a36e4ec0f834058d",
            "a9328710df8943c78c29a258a4e152ad",
            "4a9d6ac9882f48efa22dbbdd78cd9c70",
            "ec6fe1aceb254ad6bcc3761d1ac5463c",
            "932c98861f82412ca9838580da8831ab",
            "3cbcad9d0c754e87bb3027971dd315a0",
            "b6f93b171f944bdca919bc64b1b96a00",
            "d70f1edcfe1a45a782a95c2024e64814",
            "bb0cc2a62cc44507b78d1e363901f6c3",
            "88d1707f7a6241c2b46bb29f0a9fddca",
            "c705c3cd6b40497b9d87b196e43a6727",
            "1a301e2120844d8c9914fe4c527270b2",
            "79d534605126480187af771facd371f0",
            "f17177cb899d4748958fba50bbc7de79",
            "2c587b70b24e401aa928dc470e80b60b",
            "4762bd3b14494ec2a359fd935a8c1e50",
            "cfdbf8e324ba41d68f3adc5fbc65d007",
            "191c62f068cf4cd8b1388a1e10e7c7bd",
            "3f817281091d4c85a2712e33c73bcdff",
            "a5de47df87614c50b461779aaf7e7492",
            "544a1f2990434e95b6a3d22d7d8f90f3",
            "983d3696360e4e15b2fd07298459b68f",
            "10e840749ef346e1b5d2e522cc4966fd",
            "2d54cfb98d7b405eb9692cc0461452b0",
            "dc7a2f41ce234c7fb3a7ed788e1fdee2",
            "7f71b83f668c413b86bc9a62c56a51ee",
            "8f643553c1e84e9a8d616e08d2bd2de6",
            "413a6f40d96542eb87c08241094fbd09",
            "367387a618bb4aaaa3033c6b76055421",
            "d9c4cc2418fe4ddd8f381a3c74a9b6c7",
            "62ce83dc81cc48bd8aebd262284bbfd2"
          ]
        },
        "id": "pgTJuRfmeBd7",
        "outputId": "db52d6e9-153f-42e6-9a97-95c9c4f2609e"
      },
      "execution_count": 10,
      "outputs": [
        {
          "output_type": "display_data",
          "data": {
            "text/plain": [
              "Downloading (…)okenizer_config.json:   0%|          | 0.00/80.0 [00:00<?, ?B/s]"
            ],
            "application/vnd.jupyter.widget-view+json": {
              "version_major": 2,
              "version_minor": 0,
              "model_id": "4971c5c46bed4c3b83925b7f9119d712"
            }
          },
          "metadata": {}
        },
        {
          "output_type": "display_data",
          "data": {
            "text/plain": [
              "Downloading (…)solve/main/vocab.txt:   0%|          | 0.00/344k [00:00<?, ?B/s]"
            ],
            "application/vnd.jupyter.widget-view+json": {
              "version_major": 2,
              "version_minor": 0,
              "model_id": "88d1707f7a6241c2b46bb29f0a9fddca"
            }
          },
          "metadata": {}
        },
        {
          "output_type": "display_data",
          "data": {
            "text/plain": [
              "Downloading (…)lve/main/config.json:   0%|          | 0.00/725 [00:00<?, ?B/s]"
            ],
            "application/vnd.jupyter.widget-view+json": {
              "version_major": 2,
              "version_minor": 0,
              "model_id": "544a1f2990434e95b6a3d22d7d8f90f3"
            }
          },
          "metadata": {}
        },
        {
          "output_type": "stream",
          "name": "stderr",
          "text": [
            "/usr/local/lib/python3.10/dist-packages/torch/utils/data/dataloader.py:560: UserWarning: This DataLoader will create 8 worker processes in total. Our suggested max number of worker in current system is 4, which is smaller than what this DataLoader is going to create. Please be aware that excessive worker creation might get DataLoader running slow or even freeze, lower the worker number to avoid potential slowness/freeze if necessary.\n",
            "  warnings.warn(_create_warning_msg(\n"
          ]
        }
      ]
    },
    {
      "cell_type": "code",
      "source": [
        "inputs, labels = next(iter(train_loader))\n",
        "\n",
        "inputs = {k: v.to(device) for k, v in inputs.items()}\n",
        "labels.to(device)"
      ],
      "metadata": {
        "colab": {
          "base_uri": "https://localhost:8080/"
        },
        "id": "5r0Nz2sfeXrf",
        "outputId": "225f34d0-e682-4e95-cbee-e6f260777ac7"
      },
      "execution_count": 11,
      "outputs": [
        {
          "output_type": "execute_result",
          "data": {
            "text/plain": [
              "tensor([0, 1, 1, 1, 1, 1, 1, 1], device='cuda:0')"
            ]
          },
          "metadata": {},
          "execution_count": 11
        }
      ]
    },
    {
      "cell_type": "code",
      "source": [
        "from transformers import BertConfig\n",
        "\n",
        "config = BertConfig.from_pretrained(CHECKPOINT_NAME)\n",
        "config"
      ],
      "metadata": {
        "colab": {
          "base_uri": "https://localhost:8080/"
        },
        "id": "yRBqv5w5eb3_",
        "outputId": "8df5b0a8-2683-4668-eeff-d588562315f2"
      },
      "execution_count": 12,
      "outputs": [
        {
          "output_type": "execute_result",
          "data": {
            "text/plain": [
              "BertConfig {\n",
              "  \"architectures\": [\n",
              "    \"BertForMaskedLM\"\n",
              "  ],\n",
              "  \"attention_probs_dropout_prob\": 0.1,\n",
              "  \"classifier_dropout\": null,\n",
              "  \"directionality\": \"bidi\",\n",
              "  \"embedding_size\": 768,\n",
              "  \"gradient_checkpointing\": false,\n",
              "  \"hidden_act\": \"gelu\",\n",
              "  \"hidden_dropout_prob\": 0.1,\n",
              "  \"hidden_size\": 768,\n",
              "  \"initializer_range\": 0.02,\n",
              "  \"intermediate_size\": 3072,\n",
              "  \"layer_norm_eps\": 1e-12,\n",
              "  \"max_position_embeddings\": 512,\n",
              "  \"model_type\": \"bert\",\n",
              "  \"num_attention_heads\": 12,\n",
              "  \"num_hidden_layers\": 12,\n",
              "  \"pad_token_id\": 0,\n",
              "  \"pooler_fc_size\": 768,\n",
              "  \"pooler_num_attention_heads\": 12,\n",
              "  \"pooler_num_fc_layers\": 3,\n",
              "  \"pooler_size_per_head\": 128,\n",
              "  \"pooler_type\": \"first_token_transform\",\n",
              "  \"position_embedding_type\": \"absolute\",\n",
              "  \"transformers_version\": \"4.31.0\",\n",
              "  \"type_vocab_size\": 2,\n",
              "  \"use_cache\": true,\n",
              "  \"vocab_size\": 42000\n",
              "}"
            ]
          },
          "metadata": {},
          "execution_count": 12
        }
      ]
    },
    {
      "cell_type": "code",
      "source": [
        "from transformers import BertModel\n",
        "\n",
        "# 모델 생성\n",
        "model_bert = BertModel.from_pretrained(CHECKPOINT_NAME).to(device)\n",
        "model_bert"
      ],
      "metadata": {
        "colab": {
          "base_uri": "https://localhost:8080/",
          "height": 798,
          "referenced_widgets": [
            "b86bec9de1fc43c3b60c10b10d6e982d",
            "212b822c23c34c93a4e7b6cefd9f4cdd",
            "8969847f14b54d3c8c8a94c0baa68410",
            "2af92eb8b8334d1d944a48b379d020da",
            "42d19fbee534427081697a056b7e4da9",
            "adb87c18fdc0499392e7c6da364e75cd",
            "4c2f898d76ea49e9b12ee172f70acb95",
            "813e0ffdd94248b1bc887bb52b541959",
            "d86e2904d5a445f799dba3eb547f1155",
            "6f19b0ec52974144a2a3d219945f56db",
            "43a1e7f3104d43ff85005a849c14b37c"
          ]
        },
        "id": "1clafDeXe2JF",
        "outputId": "0314fc00-0482-46ce-c80a-eb5f93aea6c4"
      },
      "execution_count": 13,
      "outputs": [
        {
          "output_type": "display_data",
          "data": {
            "text/plain": [
              "Downloading pytorch_model.bin:   0%|          | 0.00/476M [00:00<?, ?B/s]"
            ],
            "application/vnd.jupyter.widget-view+json": {
              "version_major": 2,
              "version_minor": 0,
              "model_id": "b86bec9de1fc43c3b60c10b10d6e982d"
            }
          },
          "metadata": {}
        },
        {
          "output_type": "execute_result",
          "data": {
            "text/plain": [
              "BertModel(\n",
              "  (embeddings): BertEmbeddings(\n",
              "    (word_embeddings): Embedding(42000, 768, padding_idx=0)\n",
              "    (position_embeddings): Embedding(512, 768)\n",
              "    (token_type_embeddings): Embedding(2, 768)\n",
              "    (LayerNorm): LayerNorm((768,), eps=1e-12, elementwise_affine=True)\n",
              "    (dropout): Dropout(p=0.1, inplace=False)\n",
              "  )\n",
              "  (encoder): BertEncoder(\n",
              "    (layer): ModuleList(\n",
              "      (0-11): 12 x BertLayer(\n",
              "        (attention): BertAttention(\n",
              "          (self): BertSelfAttention(\n",
              "            (query): Linear(in_features=768, out_features=768, bias=True)\n",
              "            (key): Linear(in_features=768, out_features=768, bias=True)\n",
              "            (value): Linear(in_features=768, out_features=768, bias=True)\n",
              "            (dropout): Dropout(p=0.1, inplace=False)\n",
              "          )\n",
              "          (output): BertSelfOutput(\n",
              "            (dense): Linear(in_features=768, out_features=768, bias=True)\n",
              "            (LayerNorm): LayerNorm((768,), eps=1e-12, elementwise_affine=True)\n",
              "            (dropout): Dropout(p=0.1, inplace=False)\n",
              "          )\n",
              "        )\n",
              "        (intermediate): BertIntermediate(\n",
              "          (dense): Linear(in_features=768, out_features=3072, bias=True)\n",
              "          (intermediate_act_fn): GELUActivation()\n",
              "        )\n",
              "        (output): BertOutput(\n",
              "          (dense): Linear(in_features=3072, out_features=768, bias=True)\n",
              "          (LayerNorm): LayerNorm((768,), eps=1e-12, elementwise_affine=True)\n",
              "          (dropout): Dropout(p=0.1, inplace=False)\n",
              "        )\n",
              "      )\n",
              "    )\n",
              "  )\n",
              "  (pooler): BertPooler(\n",
              "    (dense): Linear(in_features=768, out_features=768, bias=True)\n",
              "    (activation): Tanh()\n",
              "  )\n",
              ")"
            ]
          },
          "metadata": {},
          "execution_count": 13
        }
      ]
    },
    {
      "cell_type": "code",
      "source": [
        "output = model_bert(**inputs)"
      ],
      "metadata": {
        "id": "0KG395sW_dKL"
      },
      "execution_count": 14,
      "outputs": []
    },
    {
      "cell_type": "code",
      "source": [
        "last_hidden_state = output['last_hidden_state']\n",
        "print(last_hidden_state.shape)\n",
        "print(last_hidden_state[:, 0, :])"
      ],
      "metadata": {
        "colab": {
          "base_uri": "https://localhost:8080/"
        },
        "id": "zBeDcRn-AGG6",
        "outputId": "b10e1e77-a81a-4808-b5a1-c4e4a7f28509"
      },
      "execution_count": 15,
      "outputs": [
        {
          "output_type": "stream",
          "name": "stdout",
          "text": [
            "torch.Size([8, 512, 768])\n",
            "tensor([[ 0.0083, -0.2762,  1.1329,  ..., -0.0041,  0.3225,  0.0305],\n",
            "        [-0.1919, -0.5448,  0.7177,  ...,  0.2628, -0.0701,  0.1964],\n",
            "        [ 0.0590, -0.3128,  0.1369,  ..., -0.0834, -0.1685,  0.7568],\n",
            "        ...,\n",
            "        [ 0.1220,  0.1314,  0.5528,  ...,  0.1604, -0.1225,  0.5807],\n",
            "        [ 0.1481, -0.1275,  1.4186,  ..., -0.2302, -0.5491,  0.2361],\n",
            "        [-0.6074, -0.7044, -0.5326,  ...,  0.1125, -0.4287, -0.1426]],\n",
            "       device='cuda:0', grad_fn=<SliceBackward0>)\n"
          ]
        }
      ]
    },
    {
      "cell_type": "code",
      "source": [
        "pooler_output = output['pooler_output']\n",
        "print(pooler_output.shape)\n",
        "print(pooler_output)"
      ],
      "metadata": {
        "colab": {
          "base_uri": "https://localhost:8080/"
        },
        "id": "37snxpnBAHWD",
        "outputId": "75b9b68e-ffc7-4583-e883-cbc59bd342f5"
      },
      "execution_count": 16,
      "outputs": [
        {
          "output_type": "stream",
          "name": "stdout",
          "text": [
            "torch.Size([8, 768])\n",
            "tensor([[-0.9271,  0.1389, -0.9673,  ...,  0.7062,  0.0632,  0.4057],\n",
            "        [-0.9038, -0.1098, -0.9573,  ...,  0.1306,  0.3572, -0.3327],\n",
            "        [ 0.8459,  0.4281, -0.9999,  ..., -0.3978,  0.7505,  0.2600],\n",
            "        ...,\n",
            "        [-0.6718,  0.2350, -0.6287,  ..., -0.2506, -0.0760,  0.8128],\n",
            "        [-0.0918, -0.2045, -0.9995,  ...,  0.9288,  0.7547,  0.4454],\n",
            "        [ 0.5728,  0.1140, -0.9987,  ...,  0.6613, -0.0200, -0.8703]],\n",
            "       device='cuda:0', grad_fn=<TanhBackward0>)\n"
          ]
        }
      ]
    },
    {
      "cell_type": "code",
      "source": [
        "fc = nn.Linear(768, 2)\n",
        "fc.to(device)\n",
        "fc_output = fc(last_hidden_state[:, 0, :])\n",
        "print(fc_output.shape)\n",
        "print(fc_output.argmax(dim=1))"
      ],
      "metadata": {
        "colab": {
          "base_uri": "https://localhost:8080/"
        },
        "id": "ad1UtoCjAJOq",
        "outputId": "d8a91fbd-d1b8-4c7d-c61a-90950e99d2dc"
      },
      "execution_count": 17,
      "outputs": [
        {
          "output_type": "stream",
          "name": "stdout",
          "text": [
            "torch.Size([8, 2])\n",
            "tensor([0, 1, 0, 1, 0, 0, 0, 0], device='cuda:0')\n"
          ]
        }
      ]
    },
    {
      "cell_type": "code",
      "source": [
        "class BertFinetuningModel(nn.Module):\n",
        "    def __init__(self, bert_pretrained, dropout_rate=0.5):\n",
        "        super(BertFinetuningModel, self).__init__()\n",
        "        self.bert = BertModel.from_pretrained(bert_pretrained)\n",
        "        self.dr = nn.Dropout(p=dropout_rate)\n",
        "        self.fc = nn.Linear(768, 2)\n",
        "\n",
        "    def forward(self, input_ids, attention_mask, token_type_ids):\n",
        "        output = self.bert(input_ids=input_ids, attention_mask=attention_mask, token_type_ids=token_type_ids)\n",
        "        last_hidden_state = output['last_hidden_state']\n",
        "        x = self.dr(last_hidden_state[:, 0, :])\n",
        "        x = self.fc(x)\n",
        "        return x"
      ],
      "metadata": {
        "id": "RSCcEOsVewVa"
      },
      "execution_count": 18,
      "outputs": []
    },
    {
      "cell_type": "code",
      "source": [
        "# CustomBertModel 생성\n",
        "bert = BertFinetuningModel(CHECKPOINT_NAME)\n",
        "bert.to(device)"
      ],
      "metadata": {
        "colab": {
          "base_uri": "https://localhost:8080/"
        },
        "id": "3iZlGhXsAMlK",
        "outputId": "dbd5804c-c955-4304-8e05-41fb4165fea4"
      },
      "execution_count": 19,
      "outputs": [
        {
          "output_type": "execute_result",
          "data": {
            "text/plain": [
              "BertFinetuningModel(\n",
              "  (bert): BertModel(\n",
              "    (embeddings): BertEmbeddings(\n",
              "      (word_embeddings): Embedding(42000, 768, padding_idx=0)\n",
              "      (position_embeddings): Embedding(512, 768)\n",
              "      (token_type_embeddings): Embedding(2, 768)\n",
              "      (LayerNorm): LayerNorm((768,), eps=1e-12, elementwise_affine=True)\n",
              "      (dropout): Dropout(p=0.1, inplace=False)\n",
              "    )\n",
              "    (encoder): BertEncoder(\n",
              "      (layer): ModuleList(\n",
              "        (0-11): 12 x BertLayer(\n",
              "          (attention): BertAttention(\n",
              "            (self): BertSelfAttention(\n",
              "              (query): Linear(in_features=768, out_features=768, bias=True)\n",
              "              (key): Linear(in_features=768, out_features=768, bias=True)\n",
              "              (value): Linear(in_features=768, out_features=768, bias=True)\n",
              "              (dropout): Dropout(p=0.1, inplace=False)\n",
              "            )\n",
              "            (output): BertSelfOutput(\n",
              "              (dense): Linear(in_features=768, out_features=768, bias=True)\n",
              "              (LayerNorm): LayerNorm((768,), eps=1e-12, elementwise_affine=True)\n",
              "              (dropout): Dropout(p=0.1, inplace=False)\n",
              "            )\n",
              "          )\n",
              "          (intermediate): BertIntermediate(\n",
              "            (dense): Linear(in_features=768, out_features=3072, bias=True)\n",
              "            (intermediate_act_fn): GELUActivation()\n",
              "          )\n",
              "          (output): BertOutput(\n",
              "            (dense): Linear(in_features=3072, out_features=768, bias=True)\n",
              "            (LayerNorm): LayerNorm((768,), eps=1e-12, elementwise_affine=True)\n",
              "            (dropout): Dropout(p=0.1, inplace=False)\n",
              "          )\n",
              "        )\n",
              "      )\n",
              "    )\n",
              "    (pooler): BertPooler(\n",
              "      (dense): Linear(in_features=768, out_features=768, bias=True)\n",
              "      (activation): Tanh()\n",
              "    )\n",
              "  )\n",
              "  (dr): Dropout(p=0.5, inplace=False)\n",
              "  (fc): Linear(in_features=768, out_features=2, bias=True)\n",
              ")"
            ]
          },
          "metadata": {},
          "execution_count": 19
        }
      ]
    },
    {
      "cell_type": "code",
      "source": [
        "loss_fn = nn.CrossEntropyLoss()\n",
        "optimizer = optim.Adam(bert.parameters(), lr=1e-5)"
      ],
      "metadata": {
        "id": "zJqMqjf5ANzm"
      },
      "execution_count": 20,
      "outputs": []
    },
    {
      "cell_type": "code",
      "source": [
        "from tqdm import tqdm  # Progress Bar 출력\n",
        "\n",
        "def model_train(model, data_loader, loss_fn, optimizer, device):\n",
        "    model.train()\n",
        "\n",
        "    running_loss = 0\n",
        "    corr = 0\n",
        "    counts = 0\n",
        "\n",
        "    prograss_bar = tqdm(data_loader, unit='batch', total=len(data_loader), mininterval=1)\n",
        "\n",
        "    for idx, (inputs, labels) in enumerate(prograss_bar):\n",
        "        inputs = {k:v.to(device) for k, v in inputs.items()}\n",
        "        labels = labels.to(device)\n",
        "\n",
        "        optimizer.zero_grad()\n",
        "        output = model(**inputs)\n",
        "        loss = loss_fn(output, labels)\n",
        "        loss.backward()\n",
        "        optimizer.step()\n",
        "\n",
        "        _, pred = output.max(dim=1)\n",
        "\n",
        "        corr += pred.eq(labels).sum().item()\n",
        "        counts += len(labels)\n",
        "\n",
        "        running_loss += loss.item() * labels.size(0)\n",
        "\n",
        "        prograss_bar.set_description(f\"training loss: {running_loss/(idx+1):.5f}, training accuracy: {corr / counts:.5f}\")\n",
        "\n",
        "    acc = corr / len(data_loader.dataset)\n",
        "\n",
        "    return running_loss / len(data_loader.dataset), acc"
      ],
      "metadata": {
        "id": "SYYrFQGeAQ6C"
      },
      "execution_count": 21,
      "outputs": []
    },
    {
      "cell_type": "code",
      "source": [
        "def model_evaluate(model, data_loader, loss_fn, device):\n",
        "    model.eval()\n",
        "\n",
        "    with torch.no_grad():\n",
        "        corr = 0\n",
        "        running_loss = 0\n",
        "\n",
        "        for inputs, labels in data_loader:\n",
        "            inputs = {k:v.to(device) for k, v in inputs.items()}\n",
        "            labels = labels.to(device)\n",
        "\n",
        "            output = model(**inputs)\n",
        "            _, pred = output.max(dim=1)\n",
        "            corr += torch.sum(pred.eq(labels)).item()\n",
        "            running_loss += loss_fn(output, labels).item() * labels.size(0)\n",
        "\n",
        "        acc = corr / len(data_loader.dataset)\n",
        "\n",
        "        return running_loss / len(data_loader.dataset), acc"
      ],
      "metadata": {
        "id": "s-MVQh4QASmn"
      },
      "execution_count": 22,
      "outputs": []
    },
    {
      "cell_type": "code",
      "source": [
        "num_epochs = 1\n",
        "\n",
        "model_name = 'bert-kor-base'\n",
        "\n",
        "min_loss = np.inf\n",
        "\n",
        "for epoch in range(num_epochs):\n",
        "    train_loss, train_acc = model_train(bert, train_loader, loss_fn, optimizer, device)\n",
        "    val_loss, val_acc = model_evaluate(bert, test_loader, loss_fn, device)\n",
        "\n",
        "    if val_loss < min_loss:\n",
        "        print(f'[INFO] val_loss has been improved from {min_loss:.5f} to {val_loss:.5f}. Saving Model!')\n",
        "        min_loss = val_loss\n",
        "        torch.save(bert.state_dict(), f'{model_name}.pth')\n",
        "\n",
        "    print(f'epoch {epoch+1:02d}, loss: {train_loss:.5f}, acc: {train_acc:.5f}, val_loss: {val_loss:.5f}, val_accuracy: {val_acc:.5f}')"
      ],
      "metadata": {
        "colab": {
          "base_uri": "https://localhost:8080/"
        },
        "id": "6FWybKtEAVHG",
        "outputId": "d3b68325-27e4-491b-c67a-e5b4661d44db"
      },
      "execution_count": 23,
      "outputs": [
        {
          "output_type": "stream",
          "name": "stderr",
          "text": [
            "training loss: 0.63737, training accuracy: 0.97157: 100%|██████████| 1887/1887 [07:32<00:00,  4.17batch/s]\n"
          ]
        },
        {
          "output_type": "stream",
          "name": "stdout",
          "text": [
            "[INFO] val_loss has been improved from inf to 0.00025. Saving Model!\n",
            "epoch 01, loss: 0.07969, acc: 0.97157, val_loss: 0.00025, val_accuracy: 1.00000\n"
          ]
        }
      ]
    },
    {
      "cell_type": "code",
      "source": [
        "bert.load_state_dict(torch.load(f'{model_name}.pth'))"
      ],
      "metadata": {
        "colab": {
          "base_uri": "https://localhost:8080/"
        },
        "id": "KDwjFaOTAXmu",
        "outputId": "6987a3bd-a5c8-41d4-858b-ffe69dab88fe"
      },
      "execution_count": 24,
      "outputs": [
        {
          "output_type": "execute_result",
          "data": {
            "text/plain": [
              "<All keys matched successfully>"
            ]
          },
          "metadata": {},
          "execution_count": 24
        }
      ]
    },
    {
      "cell_type": "code",
      "source": [
        "class CustomPredictor():\n",
        "    def __init__(self, model, tokenizer, labels: dict):\n",
        "        self.model = model\n",
        "        self.tokenizer = tokenizer\n",
        "        self.labels = labels\n",
        "\n",
        "    def predict(self, sentence):\n",
        "        # 토큰화 처리\n",
        "        tokens = self.tokenizer(\n",
        "            sentence,                # 1개 문장\n",
        "            return_tensors='pt',     # 텐서로 반환\n",
        "            truncation=True,         # 잘라내기 적용\n",
        "            padding='max_length',    # 패딩 적용\n",
        "            add_special_tokens=True  # 스페셜 토큰 적용\n",
        "        )\n",
        "        tokens.to(device)\n",
        "        prediction = self.model(**tokens)\n",
        "        prediction = F.softmax(prediction, dim=1)\n",
        "        output = prediction.argmax(dim=1).item()\n",
        "        prob, result = prediction.max(dim=1)[0].item(), self.labels[output]\n",
        "        print(f'[{result}]\\n확률은: {prob*100:.3f}% 입니다.')\n",
        "        return self.labels[output]"
      ],
      "metadata": {
        "id": "9kIWQQMxAdDW"
      },
      "execution_count": 25,
      "outputs": []
    },
    {
      "cell_type": "code",
      "source": [
        "tokenizer = BertTokenizerFast.from_pretrained(CHECKPOINT_NAME)\n",
        "\n",
        "labels = {\n",
        "    0: '보이스피싱 입니다.',\n",
        "    1: '일반전화 입니다.'\n",
        "}\n",
        "\n",
        "predictor = CustomPredictor(bert, tokenizer, labels)"
      ],
      "metadata": {
        "id": "x_fOaRy5Aemu"
      },
      "execution_count": 26,
      "outputs": []
    },
    {
      "cell_type": "code",
      "source": [
        "def predict_sentence(predictor):\n",
        "    input_sentence = input('문장을 입력해 주세요: ')\n",
        "    predictor.predict(input_sentence)"
      ],
      "metadata": {
        "id": "vqjdZ-JjAe7P"
      },
      "execution_count": 27,
      "outputs": []
    },
    {
      "cell_type": "code",
      "source": [
        "# 일상 대화 예시\n",
        "predict_sentence(predictor)"
      ],
      "metadata": {
        "colab": {
          "base_uri": "https://localhost:8080/"
        },
        "id": "SbXNeHg5Agbh",
        "outputId": "bcf19a7a-1d77-4c84-af5e-bdf9931b8e7e"
      },
      "execution_count": 28,
      "outputs": [
        {
          "output_type": "stream",
          "name": "stdout",
          "text": [
            "문장을 입력해 주세요: 점심 메뉴 정하신 분? 누룽지 끓여 먹을까 고민 나 아침 든든하게 먹으니 힘 난다 아 나 점심 뭐 먹지 점심은 사모님이 주심 후후 나 점심 내장국밥 픽\n",
            "[일반전화 입니다.]\n",
            "확률은: 99.928% 입니다.\n"
          ]
        }
      ]
    },
    {
      "cell_type": "code",
      "source": [
        "# 보이스피싱 통화 예시 1\n",
        "predict_sentence(predictor)"
      ],
      "metadata": {
        "colab": {
          "base_uri": "https://localhost:8080/"
        },
        "id": "0RPJ9fcbKbq4",
        "outputId": "089cb19e-f435-44d1-8664-26a8a5ea0225"
      },
      "execution_count": 29,
      "outputs": [
        {
          "output_type": "stream",
          "name": "stdout",
          "text": [
            "문장을 입력해 주세요: 예 (삐-) 고객님 맞으시죠? 아 네 그 심사 결과 안내 차 연락 드렸는데 우선 대출 면에서는 지금 (삐-)께서 이렇게 대출을 받아 보셨지만 뭐 최근까지 연체 이력 한 번도 없으신 점과 (삐-) 어쨌든 5개 금융사 카드 이용 중이시잖아요? 아 이 부분도 연체 없이 또 우량하게 사용하시고 그 신용 거래를 오래 해주신 점은 저희 국민 은행 측에서 좀 굉장히 긍정적으로 평가를 하세요 근데 반면에 아무래도 그 대출 면에서 (삐-) 이용하시는데 보험사는 2금융권이세요. 그래서 전산에서는 그 1금융권 거래 실적이 좀 미비하시다라고 하는데요. 그 다행히도 그 상환 능력 평가 미달로 부결이 나신 거라서, 이 상환 능력 평가 확인되시면 좀 더 좋은 조건으로 발급이 가능하시다 확인이 되시니까\n",
            "[보이스피싱 입니다.]\n",
            "확률은: 99.987% 입니다.\n"
          ]
        }
      ]
    },
    {
      "cell_type": "code",
      "source": [
        "# 보이스피싱 통화 예시 2\n",
        "predict_sentence(predictor)"
      ],
      "metadata": {
        "colab": {
          "base_uri": "https://localhost:8080/"
        },
        "id": "BJEoMhRkiiji",
        "outputId": "fe4892a0-e4fc-47f7-9789-7705bb3bc704"
      },
      "execution_count": 30,
      "outputs": [
        {
          "output_type": "stream",
          "name": "stdout",
          "text": [
            "문장을 입력해 주세요: 예 현대 캐피탈 담당자... 아 네네네네. 예 예 고객님. 일단은 승인 결과 나오셔서 연락 좀 드렸구요. 통화는 좀 괜찮으세요? 예 지금 금액 건은 제가 최초에 내어드린 가지불 결과 좀 인지하고 계신가요? 예 2400만 원에 7.5% 말씀 드렸잖아요. 지금 금액 건은 기존보다 동일하게 내려오셨는데요 아 그런데 고객님께서는 현재 정상 승인권은 아니시고, 좀 죄송한 말씀이지만 지금 조건부 승인권으로 나와계시거든요.\n",
            "[보이스피싱 입니다.]\n",
            "확률은: 99.990% 입니다.\n"
          ]
        }
      ]
    }
  ]
}